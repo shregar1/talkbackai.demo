{
 "cells": [
  {
   "cell_type": "code",
   "execution_count": 1,
   "metadata": {},
   "outputs": [],
   "source": [
    "# Event registry to store event-function mappings\n",
    "event_registry = {}"
   ]
  },
  {
   "cell_type": "code",
   "execution_count": 2,
   "metadata": {},
   "outputs": [],
   "source": [
    "def on_event(event_name):\n",
    "    \"\"\"\n",
    "    A decorator that registers a function to an event.\n",
    "    \"\"\"\n",
    "    def decorator(func):\n",
    "        # Register the function in the event registry\n",
    "        event_registry[event_name] = func\n",
    "        return func\n",
    "    return decorator"
   ]
  },
  {
   "cell_type": "code",
   "execution_count": 3,
   "metadata": {},
   "outputs": [],
   "source": [
    "@on_event('start')\n",
    "def start_event():\n",
    "    print(\"Start event triggered!\")\n"
   ]
  },
  {
   "cell_type": "code",
   "execution_count": 4,
   "metadata": {},
   "outputs": [],
   "source": [
    "@on_event('stop')\n",
    "def stop_event():\n",
    "    print(\"Stop event triggered!\")\n"
   ]
  },
  {
   "cell_type": "code",
   "execution_count": 5,
   "metadata": {},
   "outputs": [],
   "source": [
    "@on_event('custom')\n",
    "def custom_event(message):\n",
    "    print(f\"Custom event triggered with message: {message}\")\n"
   ]
  },
  {
   "cell_type": "code",
   "execution_count": 6,
   "metadata": {},
   "outputs": [],
   "source": [
    "def trigger_event(event_name, *args, **kwargs):\n",
    "    \"\"\"\n",
    "    Function to trigger an event and run the corresponding function.\n",
    "    \"\"\"\n",
    "    if event_name in event_registry:\n",
    "        # Call the registered function with the provided arguments\n",
    "        return event_registry[event_name](*args, **kwargs)\n",
    "    else:\n",
    "        print(f\"No function registered for event '{event_name}'\")\n",
    "        return None"
   ]
  },
  {
   "cell_type": "code",
   "execution_count": 7,
   "metadata": {},
   "outputs": [
    {
     "name": "stdout",
     "output_type": "stream",
     "text": [
      "Start event triggered!\n",
      "Stop event triggered!\n",
      "Custom event triggered with message: Hello, World!\n",
      "No function registered for event 'undefined_event'\n"
     ]
    }
   ],
   "source": [
    "trigger_event('start')\n",
    "trigger_event('stop')\n",
    "trigger_event('custom', message=\"Hello, World!\")\n",
    "trigger_event('undefined_event')  # This will not trigger any function\n"
   ]
  },
  {
   "cell_type": "code",
   "execution_count": 8,
   "metadata": {},
   "outputs": [
    {
     "name": "stdout",
     "output_type": "stream",
     "text": [
      "Start event triggered!\n",
      "Stop event triggered!\n",
      "Custom event triggered with message: Hello, World!\n",
      "Custom event triggered with message: Another message\n",
      "No function registered for event 'undefined_event'\n"
     ]
    }
   ],
   "source": [
    "import re\n",
    "\n",
    "# Event registry to store regex patterns and corresponding functions\n",
    "event_registry = []\n",
    "\n",
    "def on_event(event_pattern):\n",
    "    \"\"\"\n",
    "    A decorator that registers a function to a regex event pattern.\n",
    "    \"\"\"\n",
    "    def decorator(func):\n",
    "        # Compile the regex pattern and store it with the function\n",
    "        event_registry.append((re.compile(event_pattern), func))\n",
    "        return func\n",
    "    return decorator\n",
    "\n",
    "def trigger_event(event_name, *args, **kwargs):\n",
    "    \"\"\"\n",
    "    Function to trigger an event by matching the event_name against registered regex patterns.\n",
    "    \"\"\"\n",
    "    for pattern, func in event_registry:\n",
    "        match = pattern.match(event_name) \n",
    "        if match:\n",
    "            # Call the matched function with the provided arguments\n",
    "            return func(*args, **kwargs, **match.groupdict())\n",
    "    print(f\"No function registered for event '{event_name}'\")\n",
    "    return None\n",
    "\n",
    "# Example usage\n",
    "@on_event(r'^start$')\n",
    "def start_event():\n",
    "    print(\"Start event triggered!\")\n",
    "\n",
    "@on_event(r'^stop$')\n",
    "def stop_event():\n",
    "    print(\"Stop event triggered!\")\n",
    "\n",
    "@on_event(r'^custom/(?P<message>.+)$')\n",
    "def custom_event(message):\n",
    "    print(f\"Custom event triggered with message: {message}\")\n",
    "\n",
    "# Trigger events\n",
    "trigger_event('start')\n",
    "trigger_event('stop')\n",
    "trigger_event('custom/Hello, World!')\n",
    "trigger_event('custom/Another message')\n",
    "trigger_event('undefined_event')  # This will not trigger any function\n"
   ]
  },
  {
   "cell_type": "code",
   "execution_count": 21,
   "metadata": {},
   "outputs": [
    {
     "name": "stdout",
     "output_type": "stream",
     "text": [
      "Message event triggered with UUID: 123e4567-e89b-12d3-a456-426614174000\n",
      "Message: This is a test message\n",
      "Message event triggered with UUID: 123e4567-e89b-12d3-a456-426614174000\n"
     ]
    }
   ],
   "source": [
    "import re\n",
    "\n",
    "# Event registry to store regex patterns and corresponding functions\n",
    "event_registry = {}\n",
    "\n",
    "def on_event(event_pattern):\n",
    "    \"\"\"\n",
    "    A decorator that registers a function to a regex event pattern.\n",
    "    \"\"\"\n",
    "    def decorator(func):\n",
    "        event_registry.update({re.compile(event_pattern): func})\n",
    "        return func\n",
    "    return decorator\n",
    "\n",
    "def trigger_event(event_name, *args, **kwargs):\n",
    "    \"\"\"\n",
    "    Function to trigger an event by matching the event_name against registered regex patterns.\n",
    "    \"\"\"\n",
    "    for pattern, func in event_registry.items():\n",
    "        match = pattern.match(event_name)\n",
    "        if match:\n",
    "            # Call the matched function with the provided arguments and regex group dict\n",
    "            return func(*args, **kwargs, **match.groupdict())\n",
    "    print(f\"No function registered for event '{event_name}'\")\n",
    "    return None\n",
    "\n",
    "# Example function to handle the event\n",
    "@on_event(r'^message/(?P<uuid>[0-9a-fA-F/-/]{8}-[0-9a-fA-F]{4}-[0-9a-fA-F]{4}-[0-9a-fA-F]{4}-[0-9a-fA-F]{12})$')\n",
    "def handle_message(uuid, message=None):\n",
    "    print(f\"Message event triggered with UUID: {uuid}\")\n",
    "    if message:\n",
    "        print(f\"Message: {message}\")\n",
    "\n",
    "# Trigger events with an optional 'message' argument\n",
    "trigger_event('message/123e4567-e89b-12d3-a456-426614174000', message=\"This is a test message\")\n",
    "trigger_event('message/123e4567-e89b-12d3-a456-426614174000')  # Without the message argument\n"
   ]
  },
  {
   "cell_type": "code",
   "execution_count": 19,
   "metadata": {},
   "outputs": [
    {
     "data": {
      "text/plain": [
       "44"
      ]
     },
     "execution_count": 19,
     "metadata": {},
     "output_type": "execute_result"
    }
   ],
   "source": [
    "len(\"message/123e4567-e89b-12d3-a456-426614174000\")"
   ]
  },
  {
   "cell_type": "code",
   "execution_count": 10,
   "metadata": {},
   "outputs": [],
   "source": [
    "@on_event(r'^message2/(?P<uuid>[0-9a-fA-F]{8}-[0-9a-fA-F]{4}-[0-9a-fA-F]{4}-[0-9a-fA-F]{4}-[0-9a-fA-F]{12})$')\n",
    "def handle_message(uuid, *args, **kwargs):\n",
    "    print(f\"Message event triggered with UUID: {uuid}\")\n",
    "    print(f\"{kwargs}\", \"hi\")"
   ]
  },
  {
   "cell_type": "code",
   "execution_count": 11,
   "metadata": {},
   "outputs": [
    {
     "name": "stdout",
     "output_type": "stream",
     "text": [
      "Message event triggered with UUID: 123e4567-e89b-12d3-a456-426614174000\n",
      "{'message': 'This is a test message'} hi\n"
     ]
    }
   ],
   "source": [
    "trigger_event('message2/123e4567-e89b-12d3-a456-426614174000', message=\"This is a test message\")"
   ]
  },
  {
   "cell_type": "code",
   "execution_count": 12,
   "metadata": {},
   "outputs": [
    {
     "name": "stdout",
     "output_type": "stream",
     "text": [
      "Creating instance of ExampleClass with arguments: (42,) and kwargs: {}\n",
      "Value is 42\n"
     ]
    }
   ],
   "source": [
    "import functools\n",
    "\n",
    "def log_class_creation(cls):\n",
    "    \"\"\"A decorator to log when an instance of the class is created.\"\"\"\n",
    "    original_init = cls.__init__\n",
    "\n",
    "    @functools.wraps(original_init)\n",
    "    def new_init(self, *args, **kwargs):\n",
    "        print(f\"Creating instance of {cls.__name__} with arguments: {args} and kwargs: {kwargs}\")\n",
    "        original_init(self, *args, **kwargs)\n",
    "\n",
    "    cls.__init__ = new_init\n",
    "    return cls\n",
    "\n",
    "# Example usage of the decorator\n",
    "@log_class_creation\n",
    "class ExampleClass:\n",
    "    def __init__(self, value):\n",
    "        self.value = value\n",
    "\n",
    "    def display(self):\n",
    "        print(f\"Value is {self.value}\")\n",
    "\n",
    "# Create an instance to see the decorator in action\n",
    "example = ExampleClass(42)\n",
    "example.display()\n"
   ]
  },
  {
   "cell_type": "code",
   "execution_count": 68,
   "metadata": {},
   "outputs": [],
   "source": [
    "import re\n",
    "import logging\n",
    "from ulid import ulid\n",
    "from loguru import logger\n",
    "class IEvent:\n",
    "    logger = logger\n",
    "\n",
    "logger = logging.getLogger(__name__)\n",
    "\n",
    "event_registry = {}\n",
    "\n",
    "class WebSocketMessageTextEvent(IEvent):\n",
    "\n",
    "    @on_event(r'^message/text/image_generation$')\n",
    "    async def execute(cls, data: dict):\n",
    "        cls.logger.debug(\"Running Text to Image service\")\n",
    "        cls.logger.debug(\"Completed Text to Image service\")\n",
    "\n",
    "    @on_event(r'^message/text/text_generation$')\n",
    "    async def execute(cls, data: dict):\n",
    "        cls.logger.debug(\"Running Text to Speech service\")\n",
    "        cls.logger.debug(\"Completed Text to Speech service\")\n",
    "\n",
    "def on_event(event_pattern):\n",
    "    \"\"\"\n",
    "    A decorator that registers a function to a regex event pattern.\n",
    "    \"\"\"\n",
    "    def decorator(func):\n",
    "        logger.debug(f\"Registering event: {event_pattern}\")\n",
    "        event_registry[re.compile(event_pattern)] = func\n",
    "        return func\n",
    "    return decorator\n",
    "\n",
    "\n",
    "\n",
    "async def trigger_event(event_name, *args, **kwargs):\n",
    "    \"\"\"\n",
    "    Function to trigger an event by matching the event_name against registered regex patterns.\n",
    "    \"\"\"\n",
    "    logger.debug(f\"Triggering event: {event_name}\")\n",
    "    for pattern, func in event_registry.items():\n",
    "        match = pattern.match(event_name)\n",
    "        if match:\n",
    "            logger.debug(f\"Event matched: {event_name}\")\n",
    "            # Determine if func is a class method and get the class if needed\n",
    "            cls = func.__dict__\n",
    "            await method(cls, *args, **kwargs, **match.groupdict())\n",
    "    logger.debug(f\"No function registered for event '{event_name}'\")\n",
    "    return None\n",
    "\n",
    "\n"
   ]
  },
  {
   "cell_type": "code",
   "execution_count": 69,
   "metadata": {},
   "outputs": [
    {
     "data": {
      "text/plain": [
       "{re.compile(r'^message/text/image_generation$',\n",
       "            re.UNICODE): <function __main__.WebSocketMessageTextEvent.execute(cls, data: dict)>,\n",
       " re.compile(r'^message/text/text_generation$',\n",
       "            re.UNICODE): <function __main__.WebSocketMessageTextEvent.execute(cls, data: dict)>}"
      ]
     },
     "execution_count": 69,
     "metadata": {},
     "output_type": "execute_result"
    }
   ],
   "source": [
    "event_registry"
   ]
  },
  {
   "cell_type": "code",
   "execution_count": 25,
   "metadata": {},
   "outputs": [],
   "source": []
  },
  {
   "cell_type": "code",
   "execution_count": 70,
   "metadata": {},
   "outputs": [],
   "source": [
    "func = event_registry[re.compile(\"^message/text/image_generation$\")]\n",
    "map_ = {\n",
    "    WebSocketMessageTextEvent.__name__: WebSocketMessageTextEvent\n",
    "}\n",
    "obj = map_[func.__qualname__.split(\".\")[0]]"
   ]
  },
  {
   "cell_type": "code",
   "execution_count": 71,
   "metadata": {},
   "outputs": [
    {
     "name": "stderr",
     "output_type": "stream",
     "text": [
      "\u001b[32m2024-09-12 10:13:45.765\u001b[0m | \u001b[34m\u001b[1mDEBUG   \u001b[0m | \u001b[36m__main__\u001b[0m:\u001b[36mexecute\u001b[0m:\u001b[36m16\u001b[0m - \u001b[34m\u001b[1mRunning Text to Image service\u001b[0m\n",
      "\u001b[32m2024-09-12 10:13:45.766\u001b[0m | \u001b[34m\u001b[1mDEBUG   \u001b[0m | \u001b[36m__main__\u001b[0m:\u001b[36mexecute\u001b[0m:\u001b[36m17\u001b[0m - \u001b[34m\u001b[1mCompleted Text to Image service\u001b[0m\n"
     ]
    }
   ],
   "source": [
    "await func(obj, {'session_id': '12345', 'text': 'Generate an image of a sunset'})"
   ]
  },
  {
   "cell_type": "code",
   "execution_count": 58,
   "metadata": {},
   "outputs": [
    {
     "data": {
      "text/plain": [
       "'WebSocketMessageTextEvent'"
      ]
     },
     "execution_count": 58,
     "metadata": {},
     "output_type": "execute_result"
    }
   ],
   "source": [
    "func.__qualname__.split(\".\")[0]"
   ]
  },
  {
   "cell_type": "code",
   "execution_count": 59,
   "metadata": {},
   "outputs": [],
   "source": []
  },
  {
   "cell_type": "code",
   "execution_count": 61,
   "metadata": {},
   "outputs": [],
   "source": []
  },
  {
   "cell_type": "code",
   "execution_count": 64,
   "metadata": {},
   "outputs": [
    {
     "data": {
      "text/plain": [
       "<__main__.WebSocketMessageTextEvent at 0x178c02620>"
      ]
     },
     "execution_count": 64,
     "metadata": {},
     "output_type": "execute_result"
    }
   ],
   "source": []
  },
  {
   "cell_type": "code",
   "execution_count": 19,
   "metadata": {},
   "outputs": [
    {
     "ename": "TypeError",
     "evalue": "WebSocketMessageTextEvent.execute() missing 1 required positional argument: 'cls'",
     "output_type": "error",
     "traceback": [
      "\u001b[0;31m---------------------------------------------------------------------------\u001b[0m",
      "\u001b[0;31mTypeError\u001b[0m                                 Traceback (most recent call last)",
      "Cell \u001b[0;32mIn[19], line 1\u001b[0m\n\u001b[0;32m----> 1\u001b[0m \u001b[38;5;28;01mawait\u001b[39;00m trigger_event(\u001b[38;5;124m'\u001b[39m\u001b[38;5;124mmessage/text/image_generation\u001b[39m\u001b[38;5;124m'\u001b[39m, data\u001b[38;5;241m=\u001b[39m{\u001b[38;5;124m'\u001b[39m\u001b[38;5;124msession_id\u001b[39m\u001b[38;5;124m'\u001b[39m: \u001b[38;5;124m'\u001b[39m\u001b[38;5;124m12345\u001b[39m\u001b[38;5;124m'\u001b[39m, \u001b[38;5;124m'\u001b[39m\u001b[38;5;124mtext\u001b[39m\u001b[38;5;124m'\u001b[39m: \u001b[38;5;124m'\u001b[39m\u001b[38;5;124mGenerate an image of a sunset\u001b[39m\u001b[38;5;124m'\u001b[39m})\n",
      "Cell \u001b[0;32mIn[17], line 55\u001b[0m, in \u001b[0;36mtrigger_event\u001b[0;34m(event_name, *args, **kwargs)\u001b[0m\n\u001b[1;32m     53\u001b[0m             \u001b[38;5;28;01mreturn\u001b[39;00m \u001b[38;5;28;01mawait\u001b[39;00m func(\u001b[38;5;28mcls\u001b[39m, \u001b[38;5;241m*\u001b[39margs, \u001b[38;5;241m*\u001b[39m\u001b[38;5;241m*\u001b[39mkwargs, \u001b[38;5;241m*\u001b[39m\u001b[38;5;241m*\u001b[39mmatch\u001b[38;5;241m.\u001b[39mgroupdict())\n\u001b[1;32m     54\u001b[0m         \u001b[38;5;28;01melse\u001b[39;00m:\n\u001b[0;32m---> 55\u001b[0m             \u001b[38;5;28;01mreturn\u001b[39;00m \u001b[38;5;28;01mawait\u001b[39;00m \u001b[43mfunc\u001b[49m\u001b[43m(\u001b[49m\u001b[38;5;241;43m*\u001b[39;49m\u001b[43margs\u001b[49m\u001b[43m,\u001b[49m\u001b[43m \u001b[49m\u001b[38;5;241;43m*\u001b[39;49m\u001b[38;5;241;43m*\u001b[39;49m\u001b[43mkwargs\u001b[49m\u001b[43m,\u001b[49m\u001b[43m \u001b[49m\u001b[38;5;241;43m*\u001b[39;49m\u001b[38;5;241;43m*\u001b[39;49m\u001b[43mmatch\u001b[49m\u001b[38;5;241;43m.\u001b[39;49m\u001b[43mgroupdict\u001b[49m\u001b[43m(\u001b[49m\u001b[43m)\u001b[49m\u001b[43m)\u001b[49m\n\u001b[1;32m     56\u001b[0m logger\u001b[38;5;241m.\u001b[39mdebug(\u001b[38;5;124mf\u001b[39m\u001b[38;5;124m\"\u001b[39m\u001b[38;5;124mNo function registered for event \u001b[39m\u001b[38;5;124m'\u001b[39m\u001b[38;5;132;01m{\u001b[39;00mevent_name\u001b[38;5;132;01m}\u001b[39;00m\u001b[38;5;124m'\u001b[39m\u001b[38;5;124m\"\u001b[39m)\n\u001b[1;32m     57\u001b[0m \u001b[38;5;28;01mreturn\u001b[39;00m \u001b[38;5;28;01mNone\u001b[39;00m\n",
      "\u001b[0;31mTypeError\u001b[0m: WebSocketMessageTextEvent.execute() missing 1 required positional argument: 'cls'"
     ]
    }
   ],
   "source": [
    "await trigger_event('message/text/image_generation', data={'session_id': '12345', 'text': 'Generate an image of a sunset'})"
   ]
  },
  {
   "cell_type": "code",
   "execution_count": 29,
   "metadata": {},
   "outputs": [],
   "source": [
    "from ulid import ulid\n",
    "\n",
    "class IEvent:\n",
    "    # Base class for events\n",
    "    pass\n",
    "\n",
    "class WebSocketMessageTextEvent(IEvent):\n",
    "    def __init__(self):\n",
    "        self.logger = logging.getLogger(self.__class__.__name__)\n",
    "    \n",
    "    @on_event(r'^message/text/image_generation$')\n",
    "    async def execute_image_generation(self, data: dict):\n",
    "        self.logger.debug(\"Running Text to Image service\")\n",
    "        # Your service call here\n",
    "        self.logger.debug(\"Completed Text to Image service\")\n",
    "\n",
    "    @on_event(r'^message/text/text_generation$')\n",
    "    async def execute_text_generation(self, data: dict):\n",
    "        self.logger.debug(\"Running Text to Speech service\")\n",
    "        # Your service call here\n",
    "        self.logger.debug(\"Completed Text to Speech service\")\n"
   ]
  },
  {
   "cell_type": "code",
   "execution_count": 30,
   "metadata": {},
   "outputs": [],
   "source": [
    "instance_registry = {}\n",
    "\n",
    "def register_instance(cls):\n",
    "    instance = cls()\n",
    "    for method_name, method in cls.__dict__.items():\n",
    "        if callable(method) and hasattr(method, '__event__'):\n",
    "            instance_registry[method] = instance\n",
    "    return instance\n",
    "\n",
    "# Register an instance of WebSocketMessageTextEvent\n",
    "instance = register_instance(WebSocketMessageTextEvent)\n"
   ]
  },
  {
   "cell_type": "code",
   "execution_count": 31,
   "metadata": {},
   "outputs": [
    {
     "ename": "TypeError",
     "evalue": "WebSocketMessageTextEvent.execute_image_generation() missing 1 required positional argument: 'self'",
     "output_type": "error",
     "traceback": [
      "\u001b[0;31m---------------------------------------------------------------------------\u001b[0m",
      "\u001b[0;31mTypeError\u001b[0m                                 Traceback (most recent call last)",
      "Cell \u001b[0;32mIn[31], line 21\u001b[0m\n\u001b[1;32m     18\u001b[0m     \u001b[38;5;28;01mreturn\u001b[39;00m \u001b[38;5;28;01mNone\u001b[39;00m\n\u001b[1;32m     20\u001b[0m \u001b[38;5;66;03m# Example call to trigger an event\u001b[39;00m\n\u001b[0;32m---> 21\u001b[0m \u001b[38;5;28;01mawait\u001b[39;00m trigger_event(\u001b[38;5;124m'\u001b[39m\u001b[38;5;124mmessage/text/image_generation\u001b[39m\u001b[38;5;124m'\u001b[39m, data\u001b[38;5;241m=\u001b[39m{\u001b[38;5;124m'\u001b[39m\u001b[38;5;124msession_id\u001b[39m\u001b[38;5;124m'\u001b[39m: \u001b[38;5;124m'\u001b[39m\u001b[38;5;124m12345\u001b[39m\u001b[38;5;124m'\u001b[39m, \u001b[38;5;124m'\u001b[39m\u001b[38;5;124mtext\u001b[39m\u001b[38;5;124m'\u001b[39m: \u001b[38;5;124m'\u001b[39m\u001b[38;5;124mGenerate an image of a sunset\u001b[39m\u001b[38;5;124m'\u001b[39m})\n",
      "Cell \u001b[0;32mIn[31], line 16\u001b[0m, in \u001b[0;36mtrigger_event\u001b[0;34m(event_name, *args, **kwargs)\u001b[0m\n\u001b[1;32m     13\u001b[0m             \u001b[38;5;28;01mreturn\u001b[39;00m \u001b[38;5;28;01mawait\u001b[39;00m func(instance, \u001b[38;5;241m*\u001b[39margs, \u001b[38;5;241m*\u001b[39m\u001b[38;5;241m*\u001b[39mkwargs, \u001b[38;5;241m*\u001b[39m\u001b[38;5;241m*\u001b[39mmatch\u001b[38;5;241m.\u001b[39mgroupdict())\n\u001b[1;32m     14\u001b[0m         \u001b[38;5;28;01melse\u001b[39;00m:\n\u001b[1;32m     15\u001b[0m             \u001b[38;5;66;03m# Handle cases where func is not associated with an instance\u001b[39;00m\n\u001b[0;32m---> 16\u001b[0m             \u001b[38;5;28;01mreturn\u001b[39;00m \u001b[38;5;28;01mawait\u001b[39;00m func(\u001b[38;5;241m*\u001b[39margs, \u001b[38;5;241m*\u001b[39m\u001b[38;5;241m*\u001b[39mkwargs, \u001b[38;5;241m*\u001b[39m\u001b[38;5;241m*\u001b[39mmatch\u001b[38;5;241m.\u001b[39mgroupdict())\n\u001b[1;32m     17\u001b[0m logger\u001b[38;5;241m.\u001b[39mdebug(\u001b[38;5;124mf\u001b[39m\u001b[38;5;124m\"\u001b[39m\u001b[38;5;124mNo function registered for event \u001b[39m\u001b[38;5;124m'\u001b[39m\u001b[38;5;132;01m{\u001b[39;00mevent_name\u001b[38;5;132;01m}\u001b[39;00m\u001b[38;5;124m'\u001b[39m\u001b[38;5;124m\"\u001b[39m)\n\u001b[1;32m     18\u001b[0m \u001b[38;5;28;01mreturn\u001b[39;00m \u001b[38;5;28;01mNone\u001b[39;00m\n",
      "\u001b[0;31mTypeError\u001b[0m: WebSocketMessageTextEvent.execute_image_generation() missing 1 required positional argument: 'self'"
     ]
    }
   ],
   "source": [
    "async def trigger_event(event_name, *args, **kwargs):\n",
    "    \"\"\"\n",
    "    Function to trigger an event by matching the event_name against registered regex patterns.\n",
    "    \"\"\"\n",
    "    logger.debug(f\"Triggering event: {event_name}\")\n",
    "    for pattern, func in event_registry.items():\n",
    "        match = pattern.match(event_name)\n",
    "        if match:\n",
    "            logger.debug(f\"Event matched: {event_name}\")\n",
    "            # Check if func is a class method and retrieve the instance\n",
    "            if func in instance_registry:\n",
    "                instance = instance_registry[func]\n",
    "                return await func(instance, *args, **kwargs, **match.groupdict())\n",
    "            else:\n",
    "                # Handle cases where func is not associated with an instance\n",
    "                return await func(*args, **kwargs, **match.groupdict())\n",
    "    logger.debug(f\"No function registered for event '{event_name}'\")\n",
    "    return None\n",
    "\n",
    "# Example call to trigger an event\n",
    "await trigger_event('message/text/image_generation', data={'session_id': '12345', 'text': 'Generate an image of a sunset'})\n"
   ]
  },
  {
   "cell_type": "code",
   "execution_count": 81,
   "metadata": {},
   "outputs": [
    {
     "name": "stderr",
     "output_type": "stream",
     "text": [
      "\u001b[32mSeptember-12-2024\u001b[0m | \u001b[30m12:30:32\u001b[0m | \u001b[34m\u001b[1mDEBUG\u001b[0m | \u001b[36mInitialising websocket connection store\u001b[0m | \u001b[35mstart_utils:<module>:24\u001b[0m | \u001b[33m{}\u001b[0m\n",
      "\u001b[32mSeptember-12-2024\u001b[0m | \u001b[30m12:30:32\u001b[0m | \u001b[34m\u001b[1mDEBUG\u001b[0m | \u001b[36mInitialising websocket connection store\u001b[0m | \u001b[35mstart_utils:<module>:24\u001b[0m | \u001b[33m{}\u001b[0m\n",
      "\u001b[32mSeptember-12-2024\u001b[0m | \u001b[30m12:30:32\u001b[0m | \u001b[34m\u001b[1mDEBUG\u001b[0m | \u001b[36mInitialising websocket connection store\u001b[0m | \u001b[35mstart_utils:<module>:26\u001b[0m | \u001b[33m{}\u001b[0m\n",
      "\u001b[32mSeptember-12-2024\u001b[0m | \u001b[30m12:30:32\u001b[0m | \u001b[34m\u001b[1mDEBUG\u001b[0m | \u001b[36mInitialising websocket connection store\u001b[0m | \u001b[35mstart_utils:<module>:26\u001b[0m | \u001b[33m{}\u001b[0m\n",
      "\u001b[32mSeptember-12-2024\u001b[0m | \u001b[30m12:30:32\u001b[0m | \u001b[34m\u001b[1mDEBUG\u001b[0m | \u001b[36mInitialising websocket event registry\u001b[0m | \u001b[35mstart_utils:<module>:28\u001b[0m | \u001b[33m{}\u001b[0m\n",
      "\u001b[32mSeptember-12-2024\u001b[0m | \u001b[30m12:30:32\u001b[0m | \u001b[34m\u001b[1mDEBUG\u001b[0m | \u001b[36mInitialising websocket event registry\u001b[0m | \u001b[35mstart_utils:<module>:28\u001b[0m | \u001b[33m{}\u001b[0m\n",
      "\u001b[32mSeptember-12-2024\u001b[0m | \u001b[30m12:30:32\u001b[0m | \u001b[34m\u001b[1mDEBUG\u001b[0m | \u001b[36mInitialising websocket event registry\u001b[0m | \u001b[35mstart_utils:<module>:30\u001b[0m | \u001b[33m{}\u001b[0m\n",
      "\u001b[32mSeptember-12-2024\u001b[0m | \u001b[30m12:30:32\u001b[0m | \u001b[34m\u001b[1mDEBUG\u001b[0m | \u001b[36mInitialising websocket event registry\u001b[0m | \u001b[35mstart_utils:<module>:30\u001b[0m | \u001b[33m{}\u001b[0m\n",
      "\u001b[32mSeptember-12-2024\u001b[0m | \u001b[30m12:30:32\u001b[0m | \u001b[34m\u001b[1mDEBUG\u001b[0m | \u001b[36mInitialising peer connection store\u001b[0m | \u001b[35mstart_utils:<module>:32\u001b[0m | \u001b[33m{}\u001b[0m\n",
      "\u001b[32mSeptember-12-2024\u001b[0m | \u001b[30m12:30:32\u001b[0m | \u001b[34m\u001b[1mDEBUG\u001b[0m | \u001b[36mInitialising peer connection store\u001b[0m | \u001b[35mstart_utils:<module>:32\u001b[0m | \u001b[33m{}\u001b[0m\n",
      "\u001b[32mSeptember-12-2024\u001b[0m | \u001b[30m12:30:32\u001b[0m | \u001b[34m\u001b[1mDEBUG\u001b[0m | \u001b[36mInitialising peer connection store\u001b[0m | \u001b[35mstart_utils:<module>:34\u001b[0m | \u001b[33m{}\u001b[0m\n",
      "\u001b[32mSeptember-12-2024\u001b[0m | \u001b[30m12:30:32\u001b[0m | \u001b[34m\u001b[1mDEBUG\u001b[0m | \u001b[36mInitialising peer connection store\u001b[0m | \u001b[35mstart_utils:<module>:34\u001b[0m | \u001b[33m{}\u001b[0m\n",
      "\u001b[32mSeptember-12-2024\u001b[0m | \u001b[30m12:30:32\u001b[0m | \u001b[34m\u001b[1mDEBUG\u001b[0m | \u001b[36mInitialising websocket router\u001b[0m | \u001b[35mstart_utils:<module>:36\u001b[0m | \u001b[33m{}\u001b[0m\n",
      "\u001b[32mSeptember-12-2024\u001b[0m | \u001b[30m12:30:32\u001b[0m | \u001b[34m\u001b[1mDEBUG\u001b[0m | \u001b[36mInitialising websocket router\u001b[0m | \u001b[35mstart_utils:<module>:36\u001b[0m | \u001b[33m{}\u001b[0m\n",
      "\u001b[32mSeptember-12-2024\u001b[0m | \u001b[30m12:30:32\u001b[0m | \u001b[34m\u001b[1mDEBUG\u001b[0m | \u001b[36mInitialising websocket router\u001b[0m | \u001b[35mstart_utils:<module>:38\u001b[0m | \u001b[33m{}\u001b[0m\n",
      "\u001b[32mSeptember-12-2024\u001b[0m | \u001b[30m12:30:32\u001b[0m | \u001b[34m\u001b[1mDEBUG\u001b[0m | \u001b[36mInitialising websocket router\u001b[0m | \u001b[35mstart_utils:<module>:38\u001b[0m | \u001b[33m{}\u001b[0m\n",
      "\u001b[32mSeptember-12-2024\u001b[0m | \u001b[30m12:30:32\u001b[0m | \u001b[34m\u001b[1mDEBUG\u001b[0m | \u001b[36mSetting up on_event websocket decorator.\u001b[0m | \u001b[35mstart_utils:<module>:42\u001b[0m | \u001b[33m{}\u001b[0m\n",
      "\u001b[32mSeptember-12-2024\u001b[0m | \u001b[30m12:30:32\u001b[0m | \u001b[34m\u001b[1mDEBUG\u001b[0m | \u001b[36mSetting up on_event websocket decorator.\u001b[0m | \u001b[35mstart_utils:<module>:42\u001b[0m | \u001b[33m{}\u001b[0m\n",
      "\u001b[32mSeptember-12-2024\u001b[0m | \u001b[30m12:30:32\u001b[0m | \u001b[34m\u001b[1mDEBUG\u001b[0m | \u001b[36mSetting up on_event websocket decorator.\u001b[0m | \u001b[35mstart_utils:<module>:42\u001b[0m | \u001b[33m{}\u001b[0m\n",
      "\u001b[32mSeptember-12-2024\u001b[0m | \u001b[30m12:30:32\u001b[0m | \u001b[34m\u001b[1mDEBUG\u001b[0m | \u001b[36mSet up on_event websocket decorator.\u001b[0m | \u001b[35mstart_utils:<module>:53\u001b[0m | \u001b[33m{}\u001b[0m\n",
      "\u001b[32mSeptember-12-2024\u001b[0m | \u001b[30m12:30:32\u001b[0m | \u001b[34m\u001b[1mDEBUG\u001b[0m | \u001b[36mSet up on_event websocket decorator.\u001b[0m | \u001b[35mstart_utils:<module>:53\u001b[0m | \u001b[33m{}\u001b[0m\n",
      "\u001b[32mSeptember-12-2024\u001b[0m | \u001b[30m12:30:32\u001b[0m | \u001b[34m\u001b[1mDEBUG\u001b[0m | \u001b[36mSet up on_event websocket decorator.\u001b[0m | \u001b[35mstart_utils:<module>:53\u001b[0m | \u001b[33m{}\u001b[0m\n",
      "\u001b[32mSeptember-12-2024\u001b[0m | \u001b[30m12:30:32\u001b[0m | \u001b[34m\u001b[1mDEBUG\u001b[0m | \u001b[36mInitialising trigger websocker event method.\u001b[0m | \u001b[35mstart_utils:<module>:55\u001b[0m | \u001b[33m{}\u001b[0m\n",
      "\u001b[32mSeptember-12-2024\u001b[0m | \u001b[30m12:30:32\u001b[0m | \u001b[34m\u001b[1mDEBUG\u001b[0m | \u001b[36mInitialising trigger websocker event method.\u001b[0m | \u001b[35mstart_utils:<module>:55\u001b[0m | \u001b[33m{}\u001b[0m\n",
      "\u001b[32mSeptember-12-2024\u001b[0m | \u001b[30m12:30:32\u001b[0m | \u001b[34m\u001b[1mDEBUG\u001b[0m | \u001b[36mInitialising trigger websocker event method.\u001b[0m | \u001b[35mstart_utils:<module>:55\u001b[0m | \u001b[33m{}\u001b[0m\n",
      "\u001b[32mSeptember-12-2024\u001b[0m | \u001b[30m12:30:32\u001b[0m | \u001b[34m\u001b[1mDEBUG\u001b[0m | \u001b[36mInitialising trigger websocker event method.\u001b[0m | \u001b[35mstart_utils:<module>:81\u001b[0m | \u001b[33m{}\u001b[0m\n",
      "\u001b[32mSeptember-12-2024\u001b[0m | \u001b[30m12:30:32\u001b[0m | \u001b[34m\u001b[1mDEBUG\u001b[0m | \u001b[36mInitialising trigger websocker event method.\u001b[0m | \u001b[35mstart_utils:<module>:81\u001b[0m | \u001b[33m{}\u001b[0m\n",
      "\u001b[32mSeptember-12-2024\u001b[0m | \u001b[30m12:30:32\u001b[0m | \u001b[34m\u001b[1mDEBUG\u001b[0m | \u001b[36mInitialising trigger websocker event method.\u001b[0m | \u001b[35mstart_utils:<module>:81\u001b[0m | \u001b[33m{}\u001b[0m\n",
      "\u001b[32mSeptember-12-2024\u001b[0m | \u001b[30m12:30:32\u001b[0m | \u001b[34m\u001b[1mDEBUG\u001b[0m | \u001b[36mLoading environment variables from .env file\u001b[0m | \u001b[35mstart_utils:<module>:83\u001b[0m | \u001b[33m{}\u001b[0m\n",
      "\u001b[32mSeptember-12-2024\u001b[0m | \u001b[30m12:30:32\u001b[0m | \u001b[34m\u001b[1mDEBUG\u001b[0m | \u001b[36mLoading environment variables from .env file\u001b[0m | \u001b[35mstart_utils:<module>:83\u001b[0m | \u001b[33m{}\u001b[0m\n",
      "\u001b[32mSeptember-12-2024\u001b[0m | \u001b[30m12:30:32\u001b[0m | \u001b[34m\u001b[1mDEBUG\u001b[0m | \u001b[36mLoading environment variables from .env file\u001b[0m | \u001b[35mstart_utils:<module>:83\u001b[0m | \u001b[33m{}\u001b[0m\n",
      "\u001b[32mSeptember-12-2024\u001b[0m | \u001b[30m12:30:32\u001b[0m | \u001b[34m\u001b[1mDEBUG\u001b[0m | \u001b[36mLoaded environment variables from .env file\u001b[0m | \u001b[35mstart_utils:<module>:85\u001b[0m | \u001b[33m{}\u001b[0m\n",
      "\u001b[32mSeptember-12-2024\u001b[0m | \u001b[30m12:30:32\u001b[0m | \u001b[34m\u001b[1mDEBUG\u001b[0m | \u001b[36mLoaded environment variables from .env file\u001b[0m | \u001b[35mstart_utils:<module>:85\u001b[0m | \u001b[33m{}\u001b[0m\n",
      "\u001b[32mSeptember-12-2024\u001b[0m | \u001b[30m12:30:32\u001b[0m | \u001b[34m\u001b[1mDEBUG\u001b[0m | \u001b[36mLoaded environment variables from .env file\u001b[0m | \u001b[35mstart_utils:<module>:85\u001b[0m | \u001b[33m{}\u001b[0m\n",
      "\u001b[32mSeptember-12-2024\u001b[0m | \u001b[30m12:30:32\u001b[0m | \u001b[1mINFO\u001b[0m | \u001b[36mLoading environment variables\u001b[0m | \u001b[35mstart_utils:<module>:87\u001b[0m | \u001b[33m{}\u001b[0m\n",
      "\u001b[32mSeptember-12-2024\u001b[0m | \u001b[30m12:30:32\u001b[0m | \u001b[1mINFO\u001b[0m | \u001b[36mLoading environment variables\u001b[0m | \u001b[35mstart_utils:<module>:87\u001b[0m | \u001b[33m{}\u001b[0m\n",
      "\u001b[32mSeptember-12-2024\u001b[0m | \u001b[30m12:30:32\u001b[0m | \u001b[1mINFO\u001b[0m | \u001b[36mLoading environment variables\u001b[0m | \u001b[35mstart_utils:<module>:87\u001b[0m | \u001b[33m{}\u001b[0m\n",
      "\u001b[32mSeptember-12-2024\u001b[0m | \u001b[30m12:30:32\u001b[0m | \u001b[1mINFO\u001b[0m | \u001b[36mLoaded environment variables\u001b[0m | \u001b[35mstart_utils:<module>:96\u001b[0m | \u001b[33m{}\u001b[0m\n",
      "\u001b[32mSeptember-12-2024\u001b[0m | \u001b[30m12:30:32\u001b[0m | \u001b[1mINFO\u001b[0m | \u001b[36mLoaded environment variables\u001b[0m | \u001b[35mstart_utils:<module>:96\u001b[0m | \u001b[33m{}\u001b[0m\n",
      "\u001b[32mSeptember-12-2024\u001b[0m | \u001b[30m12:30:32\u001b[0m | \u001b[1mINFO\u001b[0m | \u001b[36mLoaded environment variables\u001b[0m | \u001b[35mstart_utils:<module>:96\u001b[0m | \u001b[33m{}\u001b[0m\n",
      "\u001b[32mSeptember-12-2024\u001b[0m | \u001b[30m12:30:32\u001b[0m | \u001b[1mINFO\u001b[0m | \u001b[36mLoading Configurations\u001b[0m | \u001b[35mstart_utils:<module>:103\u001b[0m | \u001b[33m{}\u001b[0m\n",
      "\u001b[32mSeptember-12-2024\u001b[0m | \u001b[30m12:30:32\u001b[0m | \u001b[1mINFO\u001b[0m | \u001b[36mLoading Configurations\u001b[0m | \u001b[35mstart_utils:<module>:103\u001b[0m | \u001b[33m{}\u001b[0m\n",
      "\u001b[32mSeptember-12-2024\u001b[0m | \u001b[30m12:30:32\u001b[0m | \u001b[1mINFO\u001b[0m | \u001b[36mLoading Configurations\u001b[0m | \u001b[35mstart_utils:<module>:103\u001b[0m | \u001b[33m{}\u001b[0m\n",
      "\u001b[32mSeptember-12-2024\u001b[0m | \u001b[30m12:30:32\u001b[0m | \u001b[1mINFO\u001b[0m | \u001b[36mLoaded Configurations\u001b[0m | \u001b[35mstart_utils:<module>:106\u001b[0m | \u001b[33m{}\u001b[0m\n",
      "\u001b[32mSeptember-12-2024\u001b[0m | \u001b[30m12:30:32\u001b[0m | \u001b[1mINFO\u001b[0m | \u001b[36mLoaded Configurations\u001b[0m | \u001b[35mstart_utils:<module>:106\u001b[0m | \u001b[33m{}\u001b[0m\n",
      "\u001b[32mSeptember-12-2024\u001b[0m | \u001b[30m12:30:32\u001b[0m | \u001b[1mINFO\u001b[0m | \u001b[36mLoaded Configurations\u001b[0m | \u001b[35mstart_utils:<module>:106\u001b[0m | \u001b[33m{}\u001b[0m\n",
      "\u001b[32mSeptember-12-2024\u001b[0m | \u001b[30m12:30:32\u001b[0m | \u001b[1mINFO\u001b[0m | \u001b[36mInitializing Redis database\u001b[0m | \u001b[35mstart_utils:<module>:108\u001b[0m | \u001b[33m{}\u001b[0m\n",
      "\u001b[32mSeptember-12-2024\u001b[0m | \u001b[30m12:30:32\u001b[0m | \u001b[1mINFO\u001b[0m | \u001b[36mInitializing Redis database\u001b[0m | \u001b[35mstart_utils:<module>:108\u001b[0m | \u001b[33m{}\u001b[0m\n",
      "\u001b[32mSeptember-12-2024\u001b[0m | \u001b[30m12:30:32\u001b[0m | \u001b[1mINFO\u001b[0m | \u001b[36mInitializing Redis database\u001b[0m | \u001b[35mstart_utils:<module>:108\u001b[0m | \u001b[33m{}\u001b[0m\n",
      "\u001b[32mSeptember-12-2024\u001b[0m | \u001b[30m12:30:32\u001b[0m | \u001b[1mINFO\u001b[0m | \u001b[36mInitialized Redis database\u001b[0m | \u001b[35mstart_utils:<module>:117\u001b[0m | \u001b[33m{}\u001b[0m\n",
      "\u001b[32mSeptember-12-2024\u001b[0m | \u001b[30m12:30:32\u001b[0m | \u001b[1mINFO\u001b[0m | \u001b[36mInitialized Redis database\u001b[0m | \u001b[35mstart_utils:<module>:117\u001b[0m | \u001b[33m{}\u001b[0m\n",
      "\u001b[32mSeptember-12-2024\u001b[0m | \u001b[30m12:30:32\u001b[0m | \u001b[1mINFO\u001b[0m | \u001b[36mInitialized Redis database\u001b[0m | \u001b[35mstart_utils:<module>:117\u001b[0m | \u001b[33m{}\u001b[0m\n",
      "\u001b[32mSeptember-12-2024\u001b[0m | \u001b[30m12:30:32\u001b[0m | \u001b[1mINFO\u001b[0m | \u001b[36mInitializing Celery\u001b[0m | \u001b[35mstart_utils:<module>:120\u001b[0m | \u001b[33m{}\u001b[0m\n",
      "\u001b[32mSeptember-12-2024\u001b[0m | \u001b[30m12:30:32\u001b[0m | \u001b[1mINFO\u001b[0m | \u001b[36mInitializing Celery\u001b[0m | \u001b[35mstart_utils:<module>:120\u001b[0m | \u001b[33m{}\u001b[0m\n",
      "\u001b[32mSeptember-12-2024\u001b[0m | \u001b[30m12:30:32\u001b[0m | \u001b[1mINFO\u001b[0m | \u001b[36mInitializing Celery\u001b[0m | \u001b[35mstart_utils:<module>:120\u001b[0m | \u001b[33m{}\u001b[0m\n",
      "\u001b[32mSeptember-12-2024\u001b[0m | \u001b[30m12:30:32\u001b[0m | \u001b[1mINFO\u001b[0m | \u001b[36mInitialized Celery\u001b[0m | \u001b[35mstart_utils:<module>:135\u001b[0m | \u001b[33m{}\u001b[0m\n",
      "\u001b[32mSeptember-12-2024\u001b[0m | \u001b[30m12:30:32\u001b[0m | \u001b[1mINFO\u001b[0m | \u001b[36mInitialized Celery\u001b[0m | \u001b[35mstart_utils:<module>:135\u001b[0m | \u001b[33m{}\u001b[0m\n",
      "\u001b[32mSeptember-12-2024\u001b[0m | \u001b[30m12:30:32\u001b[0m | \u001b[1mINFO\u001b[0m | \u001b[36mInitialized Celery\u001b[0m | \u001b[35mstart_utils:<module>:135\u001b[0m | \u001b[33m{}\u001b[0m\n",
      "\u001b[32mSeptember-12-2024\u001b[0m | \u001b[30m12:30:32\u001b[0m | \u001b[1mINFO\u001b[0m | \u001b[36mInitializing speech recognizer\u001b[0m | \u001b[35mstart_utils:<module>:137\u001b[0m | \u001b[33m{}\u001b[0m\n",
      "\u001b[32mSeptember-12-2024\u001b[0m | \u001b[30m12:30:32\u001b[0m | \u001b[1mINFO\u001b[0m | \u001b[36mInitializing speech recognizer\u001b[0m | \u001b[35mstart_utils:<module>:137\u001b[0m | \u001b[33m{}\u001b[0m\n",
      "\u001b[32mSeptember-12-2024\u001b[0m | \u001b[30m12:30:32\u001b[0m | \u001b[1mINFO\u001b[0m | \u001b[36mInitializing speech recognizer\u001b[0m | \u001b[35mstart_utils:<module>:137\u001b[0m | \u001b[33m{}\u001b[0m\n",
      "\u001b[32mSeptember-12-2024\u001b[0m | \u001b[30m12:30:32\u001b[0m | \u001b[1mINFO\u001b[0m | \u001b[36mInitialized speech recognizer\u001b[0m | \u001b[35mstart_utils:<module>:139\u001b[0m | \u001b[33m{}\u001b[0m\n",
      "\u001b[32mSeptember-12-2024\u001b[0m | \u001b[30m12:30:32\u001b[0m | \u001b[1mINFO\u001b[0m | \u001b[36mInitialized speech recognizer\u001b[0m | \u001b[35mstart_utils:<module>:139\u001b[0m | \u001b[33m{}\u001b[0m\n",
      "\u001b[32mSeptember-12-2024\u001b[0m | \u001b[30m12:30:32\u001b[0m | \u001b[1mINFO\u001b[0m | \u001b[36mInitialized speech recognizer\u001b[0m | \u001b[35mstart_utils:<module>:139\u001b[0m | \u001b[33m{}\u001b[0m\n",
      "\u001b[32mSeptember-12-2024\u001b[0m | \u001b[30m12:30:32\u001b[0m | \u001b[1mINFO\u001b[0m | \u001b[36mInitializing conversation llm\u001b[0m | \u001b[35mstart_utils:<module>:141\u001b[0m | \u001b[33m{}\u001b[0m\n",
      "\u001b[32mSeptember-12-2024\u001b[0m | \u001b[30m12:30:32\u001b[0m | \u001b[1mINFO\u001b[0m | \u001b[36mInitializing conversation llm\u001b[0m | \u001b[35mstart_utils:<module>:141\u001b[0m | \u001b[33m{}\u001b[0m\n",
      "\u001b[32mSeptember-12-2024\u001b[0m | \u001b[30m12:30:32\u001b[0m | \u001b[1mINFO\u001b[0m | \u001b[36mInitializing conversation llm\u001b[0m | \u001b[35mstart_utils:<module>:141\u001b[0m | \u001b[33m{}\u001b[0m\n",
      "\u001b[32mSeptember-12-2024\u001b[0m | \u001b[30m12:30:32\u001b[0m | \u001b[1mINFO\u001b[0m | \u001b[36mInitialised conversation llm\u001b[0m | \u001b[35mstart_utils:<module>:146\u001b[0m | \u001b[33m{}\u001b[0m\n",
      "\u001b[32mSeptember-12-2024\u001b[0m | \u001b[30m12:30:32\u001b[0m | \u001b[1mINFO\u001b[0m | \u001b[36mInitialised conversation llm\u001b[0m | \u001b[35mstart_utils:<module>:146\u001b[0m | \u001b[33m{}\u001b[0m\n",
      "\u001b[32mSeptember-12-2024\u001b[0m | \u001b[30m12:30:32\u001b[0m | \u001b[1mINFO\u001b[0m | \u001b[36mInitialised conversation llm\u001b[0m | \u001b[35mstart_utils:<module>:146\u001b[0m | \u001b[33m{}\u001b[0m\n",
      "\u001b[32mSeptember-12-2024\u001b[0m | \u001b[30m12:30:32\u001b[0m | \u001b[1mINFO\u001b[0m | \u001b[36mInitialising Embedding function\u001b[0m | \u001b[35mstart_utils:<module>:148\u001b[0m | \u001b[33m{}\u001b[0m\n",
      "\u001b[32mSeptember-12-2024\u001b[0m | \u001b[30m12:30:32\u001b[0m | \u001b[1mINFO\u001b[0m | \u001b[36mInitialising Embedding function\u001b[0m | \u001b[35mstart_utils:<module>:148\u001b[0m | \u001b[33m{}\u001b[0m\n",
      "\u001b[32mSeptember-12-2024\u001b[0m | \u001b[30m12:30:32\u001b[0m | \u001b[1mINFO\u001b[0m | \u001b[36mInitialising Embedding function\u001b[0m | \u001b[35mstart_utils:<module>:148\u001b[0m | \u001b[33m{}\u001b[0m\n",
      "\u001b[32mSeptember-12-2024\u001b[0m | \u001b[30m12:30:32\u001b[0m | \u001b[34m\u001b[1mDEBUG\u001b[0m | \u001b[36mInitialised Embedding function\u001b[0m | \u001b[35mstart_utils:<module>:152\u001b[0m | \u001b[33m{}\u001b[0m\n",
      "\u001b[32mSeptember-12-2024\u001b[0m | \u001b[30m12:30:32\u001b[0m | \u001b[34m\u001b[1mDEBUG\u001b[0m | \u001b[36mInitialised Embedding function\u001b[0m | \u001b[35mstart_utils:<module>:152\u001b[0m | \u001b[33m{}\u001b[0m\n",
      "\u001b[32mSeptember-12-2024\u001b[0m | \u001b[30m12:30:32\u001b[0m | \u001b[34m\u001b[1mDEBUG\u001b[0m | \u001b[36mInitialised Embedding function\u001b[0m | \u001b[35mstart_utils:<module>:152\u001b[0m | \u001b[33m{}\u001b[0m\n",
      "\u001b[32mSeptember-12-2024\u001b[0m | \u001b[30m12:30:32\u001b[0m | \u001b[34m\u001b[1mDEBUG\u001b[0m | \u001b[36mInitialising rag prompt\u001b[0m | \u001b[35mstart_utils:<module>:154\u001b[0m | \u001b[33m{}\u001b[0m\n",
      "\u001b[32mSeptember-12-2024\u001b[0m | \u001b[30m12:30:32\u001b[0m | \u001b[34m\u001b[1mDEBUG\u001b[0m | \u001b[36mInitialising rag prompt\u001b[0m | \u001b[35mstart_utils:<module>:154\u001b[0m | \u001b[33m{}\u001b[0m\n",
      "\u001b[32mSeptember-12-2024\u001b[0m | \u001b[30m12:30:32\u001b[0m | \u001b[34m\u001b[1mDEBUG\u001b[0m | \u001b[36mInitialising rag prompt\u001b[0m | \u001b[35mstart_utils:<module>:154\u001b[0m | \u001b[33m{}\u001b[0m\n",
      "\u001b[32mSeptember-12-2024\u001b[0m | \u001b[30m12:30:32\u001b[0m | \u001b[34m\u001b[1mDEBUG\u001b[0m | \u001b[36mInitialised rag prompt\u001b[0m | \u001b[35mstart_utils:<module>:156\u001b[0m | \u001b[33m{}\u001b[0m\n",
      "\u001b[32mSeptember-12-2024\u001b[0m | \u001b[30m12:30:32\u001b[0m | \u001b[34m\u001b[1mDEBUG\u001b[0m | \u001b[36mInitialised rag prompt\u001b[0m | \u001b[35mstart_utils:<module>:156\u001b[0m | \u001b[33m{}\u001b[0m\n",
      "\u001b[32mSeptember-12-2024\u001b[0m | \u001b[30m12:30:32\u001b[0m | \u001b[34m\u001b[1mDEBUG\u001b[0m | \u001b[36mInitialised rag prompt\u001b[0m | \u001b[35mstart_utils:<module>:156\u001b[0m | \u001b[33m{}\u001b[0m\n",
      "\u001b[32mSeptember-12-2024\u001b[0m | \u001b[30m12:30:32\u001b[0m | \u001b[34m\u001b[1mDEBUG\u001b[0m | \u001b[36mInitialising gradio flux client\u001b[0m | \u001b[35mstart_utils:<module>:163\u001b[0m | \u001b[33m{}\u001b[0m\n",
      "\u001b[32mSeptember-12-2024\u001b[0m | \u001b[30m12:30:32\u001b[0m | \u001b[34m\u001b[1mDEBUG\u001b[0m | \u001b[36mInitialising gradio flux client\u001b[0m | \u001b[35mstart_utils:<module>:163\u001b[0m | \u001b[33m{}\u001b[0m\n",
      "\u001b[32mSeptember-12-2024\u001b[0m | \u001b[30m12:30:32\u001b[0m | \u001b[34m\u001b[1mDEBUG\u001b[0m | \u001b[36mInitialising gradio flux client\u001b[0m | \u001b[35mstart_utils:<module>:163\u001b[0m | \u001b[33m{}\u001b[0m\n"
     ]
    },
    {
     "name": "stdout",
     "output_type": "stream",
     "text": [
      "Loaded as API: https://black-forest-labs-flux-1-schnell.hf.space ✔\n"
     ]
    },
    {
     "name": "stderr",
     "output_type": "stream",
     "text": [
      "\u001b[32mSeptember-12-2024\u001b[0m | \u001b[30m12:30:35\u001b[0m | \u001b[34m\u001b[1mDEBUG\u001b[0m | \u001b[36mInitialised gradio flux client\u001b[0m | \u001b[35mstart_utils:<module>:165\u001b[0m | \u001b[33m{}\u001b[0m\n",
      "\u001b[32mSeptember-12-2024\u001b[0m | \u001b[30m12:30:35\u001b[0m | \u001b[34m\u001b[1mDEBUG\u001b[0m | \u001b[36mInitialised gradio flux client\u001b[0m | \u001b[35mstart_utils:<module>:165\u001b[0m | \u001b[33m{}\u001b[0m\n",
      "\u001b[32mSeptember-12-2024\u001b[0m | \u001b[30m12:30:35\u001b[0m | \u001b[34m\u001b[1mDEBUG\u001b[0m | \u001b[36mInitialised gradio flux client\u001b[0m | \u001b[35mstart_utils:<module>:165\u001b[0m | \u001b[33m{}\u001b[0m\n"
     ]
    }
   ],
   "source": [
    "from start_utils import logger"
   ]
  },
  {
   "cell_type": "code",
   "execution_count": 84,
   "metadata": {},
   "outputs": [],
   "source": [
    "from start_utils import logger\n",
    "\n",
    "router = {}\n",
    "from services.apis.chat.text_to_speech import TextToSpeechChatService"
   ]
  },
  {
   "cell_type": "code",
   "execution_count": 88,
   "metadata": {},
   "outputs": [
    {
     "name": "stderr",
     "output_type": "stream",
     "text": [
      "\u001b[32mSeptember-12-2024\u001b[0m | \u001b[30m12:33:09\u001b[0m | \u001b[34m\u001b[1mDEBUG\u001b[0m | \u001b[36mInitializing Initiate Chat API service\u001b[0m | \u001b[35mservices.apis.chat.abstraction:__init__:22\u001b[0m | \u001b[33m{'urn': '123'}\u001b[0m\n",
      "\u001b[32mSeptember-12-2024\u001b[0m | \u001b[30m12:33:09\u001b[0m | \u001b[34m\u001b[1mDEBUG\u001b[0m | \u001b[36mInitializing Initiate Chat API service\u001b[0m | \u001b[35mservices.apis.chat.abstraction:__init__:22\u001b[0m | \u001b[33m{'urn': '123'}\u001b[0m\n",
      "\u001b[32mSeptember-12-2024\u001b[0m | \u001b[30m12:33:09\u001b[0m | \u001b[34m\u001b[1mDEBUG\u001b[0m | \u001b[36mInitializing Initiate Chat API service\u001b[0m | \u001b[35mservices.apis.chat.abstraction:__init__:22\u001b[0m | \u001b[33m{'urn': '123'}\u001b[0m\n",
      "\u001b[32mSeptember-12-2024\u001b[0m | \u001b[30m12:33:09\u001b[0m | \u001b[34m\u001b[1mDEBUG\u001b[0m | \u001b[36mInitializing Initiate Chat API service\u001b[0m | \u001b[35mservices.apis.chat.text_to_speech:__init__:26\u001b[0m | \u001b[33m{'urn': '123'}\u001b[0m\n",
      "\u001b[32mSeptember-12-2024\u001b[0m | \u001b[30m12:33:09\u001b[0m | \u001b[34m\u001b[1mDEBUG\u001b[0m | \u001b[36mInitializing Initiate Chat API service\u001b[0m | \u001b[35mservices.apis.chat.text_to_speech:__init__:26\u001b[0m | \u001b[33m{'urn': '123'}\u001b[0m\n",
      "\u001b[32mSeptember-12-2024\u001b[0m | \u001b[30m12:33:09\u001b[0m | \u001b[34m\u001b[1mDEBUG\u001b[0m | \u001b[36mInitializing Initiate Chat API service\u001b[0m | \u001b[35mservices.apis.chat.text_to_speech:__init__:26\u001b[0m | \u001b[33m{'urn': '123'}\u001b[0m\n",
      "\u001b[32mSeptember-12-2024\u001b[0m | \u001b[30m12:33:09\u001b[0m | \u001b[34m\u001b[1mDEBUG\u001b[0m | \u001b[36mStarting Conversate Chat Service\u001b[0m | \u001b[35mservices.apis.chat.text_to_speech:run:66\u001b[0m | \u001b[33m{'urn': '123'}\u001b[0m\n",
      "\u001b[32mSeptember-12-2024\u001b[0m | \u001b[30m12:33:09\u001b[0m | \u001b[34m\u001b[1mDEBUG\u001b[0m | \u001b[36mStarting Conversate Chat Service\u001b[0m | \u001b[35mservices.apis.chat.text_to_speech:run:66\u001b[0m | \u001b[33m{'urn': '123'}\u001b[0m\n",
      "\u001b[32mSeptember-12-2024\u001b[0m | \u001b[30m12:33:09\u001b[0m | \u001b[34m\u001b[1mDEBUG\u001b[0m | \u001b[36mStarting Conversate Chat Service\u001b[0m | \u001b[35mservices.apis.chat.text_to_speech:run:66\u001b[0m | \u001b[33m{'urn': '123'}\u001b[0m\n",
      "\u001b[32mSeptember-12-2024\u001b[0m | \u001b[30m12:33:09\u001b[0m | \u001b[34m\u001b[1mDEBUG\u001b[0m | \u001b[36minside ************************************************ {'message': 'tell me about Bruce Wayne', 'chat_urn': '4888c131-887b-4ea7-a3a8-31ed84ac019b'}\u001b[0m | \u001b[35mservices.apis.chat.text_to_speech:run:69\u001b[0m | \u001b[33m{'urn': '123'}\u001b[0m\n",
      "\u001b[32mSeptember-12-2024\u001b[0m | \u001b[30m12:33:09\u001b[0m | \u001b[34m\u001b[1mDEBUG\u001b[0m | \u001b[36minside ************************************************ {'message': 'tell me about Bruce Wayne', 'chat_urn': '4888c131-887b-4ea7-a3a8-31ed84ac019b'}\u001b[0m | \u001b[35mservices.apis.chat.text_to_speech:run:69\u001b[0m | \u001b[33m{'urn': '123'}\u001b[0m\n",
      "\u001b[32mSeptember-12-2024\u001b[0m | \u001b[30m12:33:09\u001b[0m | \u001b[34m\u001b[1mDEBUG\u001b[0m | \u001b[36minside ************************************************ {'message': 'tell me about Bruce Wayne', 'chat_urn': '4888c131-887b-4ea7-a3a8-31ed84ac019b'}\u001b[0m | \u001b[35mservices.apis.chat.text_to_speech:run:69\u001b[0m | \u001b[33m{'urn': '123'}\u001b[0m\n",
      "\u001b[32mSeptember-12-2024\u001b[0m | \u001b[30m12:33:09\u001b[0m | \u001b[34m\u001b[1mDEBUG\u001b[0m | \u001b[36mFetching chat urn\u001b[0m | \u001b[35mservices.apis.chat.text_to_speech:run:70\u001b[0m | \u001b[33m{'urn': '123'}\u001b[0m\n",
      "\u001b[32mSeptember-12-2024\u001b[0m | \u001b[30m12:33:09\u001b[0m | \u001b[34m\u001b[1mDEBUG\u001b[0m | \u001b[36mFetching chat urn\u001b[0m | \u001b[35mservices.apis.chat.text_to_speech:run:70\u001b[0m | \u001b[33m{'urn': '123'}\u001b[0m\n",
      "\u001b[32mSeptember-12-2024\u001b[0m | \u001b[30m12:33:09\u001b[0m | \u001b[34m\u001b[1mDEBUG\u001b[0m | \u001b[36mFetching chat urn\u001b[0m | \u001b[35mservices.apis.chat.text_to_speech:run:70\u001b[0m | \u001b[33m{'urn': '123'}\u001b[0m\n",
      "\u001b[32mSeptember-12-2024\u001b[0m | \u001b[30m12:33:09\u001b[0m | \u001b[34m\u001b[1mDEBUG\u001b[0m | \u001b[36mFetched chat urn\u001b[0m | \u001b[35mservices.apis.chat.text_to_speech:run:72\u001b[0m | \u001b[33m{'urn': '123'}\u001b[0m\n",
      "\u001b[32mSeptember-12-2024\u001b[0m | \u001b[30m12:33:09\u001b[0m | \u001b[34m\u001b[1mDEBUG\u001b[0m | \u001b[36mFetched chat urn\u001b[0m | \u001b[35mservices.apis.chat.text_to_speech:run:72\u001b[0m | \u001b[33m{'urn': '123'}\u001b[0m\n",
      "\u001b[32mSeptember-12-2024\u001b[0m | \u001b[30m12:33:09\u001b[0m | \u001b[34m\u001b[1mDEBUG\u001b[0m | \u001b[36mFetched chat urn\u001b[0m | \u001b[35mservices.apis.chat.text_to_speech:run:72\u001b[0m | \u001b[33m{'urn': '123'}\u001b[0m\n",
      "\u001b[32mSeptember-12-2024\u001b[0m | \u001b[30m12:33:09\u001b[0m | \u001b[34m\u001b[1mDEBUG\u001b[0m | \u001b[36m*******************************************4888c131-887b-4ea7-a3a8-31ed84ac019b\u001b[0m | \u001b[35mservices.apis.chat.text_to_speech:run:73\u001b[0m | \u001b[33m{'urn': '123'}\u001b[0m\n",
      "\u001b[32mSeptember-12-2024\u001b[0m | \u001b[30m12:33:09\u001b[0m | \u001b[34m\u001b[1mDEBUG\u001b[0m | \u001b[36m*******************************************4888c131-887b-4ea7-a3a8-31ed84ac019b\u001b[0m | \u001b[35mservices.apis.chat.text_to_speech:run:73\u001b[0m | \u001b[33m{'urn': '123'}\u001b[0m\n",
      "\u001b[32mSeptember-12-2024\u001b[0m | \u001b[30m12:33:09\u001b[0m | \u001b[34m\u001b[1mDEBUG\u001b[0m | \u001b[36m*******************************************4888c131-887b-4ea7-a3a8-31ed84ac019b\u001b[0m | \u001b[35mservices.apis.chat.text_to_speech:run:73\u001b[0m | \u001b[33m{'urn': '123'}\u001b[0m\n",
      "\u001b[32mSeptember-12-2024\u001b[0m | \u001b[30m12:33:09\u001b[0m | \u001b[34m\u001b[1mDEBUG\u001b[0m | \u001b[36mLoading conversation from session\u001b[0m | \u001b[35mservices.apis.chat.text_to_speech:run:77\u001b[0m | \u001b[33m{'urn': '123'}\u001b[0m\n",
      "\u001b[32mSeptember-12-2024\u001b[0m | \u001b[30m12:33:09\u001b[0m | \u001b[34m\u001b[1mDEBUG\u001b[0m | \u001b[36mLoading conversation from session\u001b[0m | \u001b[35mservices.apis.chat.text_to_speech:run:77\u001b[0m | \u001b[33m{'urn': '123'}\u001b[0m\n",
      "\u001b[32mSeptember-12-2024\u001b[0m | \u001b[30m12:33:09\u001b[0m | \u001b[34m\u001b[1mDEBUG\u001b[0m | \u001b[36mLoading conversation from session\u001b[0m | \u001b[35mservices.apis.chat.text_to_speech:run:77\u001b[0m | \u001b[33m{'urn': '123'}\u001b[0m\n",
      "\u001b[32mSeptember-12-2024\u001b[0m | \u001b[30m12:33:09\u001b[0m | \u001b[31m\u001b[1mERROR\u001b[0m | \u001b[36mException occurred while running intitate chat service: Error 8 connecting to redis:6379. nodename nor servname provided, or not known.\u001b[0m | \u001b[35mservices.apis.chat.text_to_speech:run:197\u001b[0m | \u001b[33m{'urn': '123'}\u001b[0m\n",
      "\u001b[32mSeptember-12-2024\u001b[0m | \u001b[30m12:33:09\u001b[0m | \u001b[31m\u001b[1mERROR\u001b[0m | \u001b[36mException occurred while running intitate chat service: Error 8 connecting to redis:6379. nodename nor servname provided, or not known.\u001b[0m | \u001b[35mservices.apis.chat.text_to_speech:run:197\u001b[0m | \u001b[33m{'urn': '123'}\u001b[0m\n",
      "\u001b[32mSeptember-12-2024\u001b[0m | \u001b[30m12:33:09\u001b[0m | \u001b[31m\u001b[1mERROR\u001b[0m | \u001b[36mException occurred while running intitate chat service: Error 8 connecting to redis:6379. nodename nor servname provided, or not known.\u001b[0m | \u001b[35mservices.apis.chat.text_to_speech:run:197\u001b[0m | \u001b[33m{'urn': '123'}\u001b[0m\n",
      "\u001b[32mSeptember-12-2024\u001b[0m | \u001b[30m12:33:09\u001b[0m | \u001b[34m\u001b[1mDEBUG\u001b[0m | \u001b[36mCompleted Conversate Chat Service\u001b[0m | \u001b[35mservices.apis.chat.text_to_speech:run:202\u001b[0m | \u001b[33m{'urn': '123'}\u001b[0m\n",
      "\u001b[32mSeptember-12-2024\u001b[0m | \u001b[30m12:33:09\u001b[0m | \u001b[34m\u001b[1mDEBUG\u001b[0m | \u001b[36mCompleted Conversate Chat Service\u001b[0m | \u001b[35mservices.apis.chat.text_to_speech:run:202\u001b[0m | \u001b[33m{'urn': '123'}\u001b[0m\n",
      "\u001b[32mSeptember-12-2024\u001b[0m | \u001b[30m12:33:09\u001b[0m | \u001b[34m\u001b[1mDEBUG\u001b[0m | \u001b[36mCompleted Conversate Chat Service\u001b[0m | \u001b[35mservices.apis.chat.text_to_speech:run:202\u001b[0m | \u001b[33m{'urn': '123'}\u001b[0m\n"
     ]
    },
    {
     "ename": "ConnectionError",
     "evalue": "Error 8 connecting to redis:6379. nodename nor servname provided, or not known.",
     "output_type": "error",
     "traceback": [
      "\u001b[0;31m---------------------------------------------------------------------------\u001b[0m",
      "\u001b[0;31mgaierror\u001b[0m                                  Traceback (most recent call last)",
      "File \u001b[0;32m/Library/Frameworks/Python.framework/Versions/3.10/lib/python3.10/site-packages/redis/connection.py:277\u001b[0m, in \u001b[0;36mAbstractConnection.connect\u001b[0;34m(self)\u001b[0m\n\u001b[1;32m    276\u001b[0m \u001b[38;5;28;01mtry\u001b[39;00m:\n\u001b[0;32m--> 277\u001b[0m     sock \u001b[38;5;241m=\u001b[39m \u001b[38;5;28;43mself\u001b[39;49m\u001b[38;5;241;43m.\u001b[39;49m\u001b[43mretry\u001b[49m\u001b[38;5;241;43m.\u001b[39;49m\u001b[43mcall_with_retry\u001b[49m\u001b[43m(\u001b[49m\n\u001b[1;32m    278\u001b[0m \u001b[43m        \u001b[49m\u001b[38;5;28;43;01mlambda\u001b[39;49;00m\u001b[43m:\u001b[49m\u001b[43m \u001b[49m\u001b[38;5;28;43mself\u001b[39;49m\u001b[38;5;241;43m.\u001b[39;49m\u001b[43m_connect\u001b[49m\u001b[43m(\u001b[49m\u001b[43m)\u001b[49m\u001b[43m,\u001b[49m\u001b[43m \u001b[49m\u001b[38;5;28;43;01mlambda\u001b[39;49;00m\u001b[43m \u001b[49m\u001b[43merror\u001b[49m\u001b[43m:\u001b[49m\u001b[43m \u001b[49m\u001b[38;5;28;43mself\u001b[39;49m\u001b[38;5;241;43m.\u001b[39;49m\u001b[43mdisconnect\u001b[49m\u001b[43m(\u001b[49m\u001b[43merror\u001b[49m\u001b[43m)\u001b[49m\n\u001b[1;32m    279\u001b[0m \u001b[43m    \u001b[49m\u001b[43m)\u001b[49m\n\u001b[1;32m    280\u001b[0m \u001b[38;5;28;01mexcept\u001b[39;00m socket\u001b[38;5;241m.\u001b[39mtimeout:\n",
      "File \u001b[0;32m/Library/Frameworks/Python.framework/Versions/3.10/lib/python3.10/site-packages/redis/retry.py:62\u001b[0m, in \u001b[0;36mRetry.call_with_retry\u001b[0;34m(self, do, fail)\u001b[0m\n\u001b[1;32m     61\u001b[0m \u001b[38;5;28;01mtry\u001b[39;00m:\n\u001b[0;32m---> 62\u001b[0m     \u001b[38;5;28;01mreturn\u001b[39;00m \u001b[43mdo\u001b[49m\u001b[43m(\u001b[49m\u001b[43m)\u001b[49m\n\u001b[1;32m     63\u001b[0m \u001b[38;5;28;01mexcept\u001b[39;00m \u001b[38;5;28mself\u001b[39m\u001b[38;5;241m.\u001b[39m_supported_errors \u001b[38;5;28;01mas\u001b[39;00m error:\n",
      "File \u001b[0;32m/Library/Frameworks/Python.framework/Versions/3.10/lib/python3.10/site-packages/redis/connection.py:278\u001b[0m, in \u001b[0;36mAbstractConnection.connect.<locals>.<lambda>\u001b[0;34m()\u001b[0m\n\u001b[1;32m    276\u001b[0m \u001b[38;5;28;01mtry\u001b[39;00m:\n\u001b[1;32m    277\u001b[0m     sock \u001b[38;5;241m=\u001b[39m \u001b[38;5;28mself\u001b[39m\u001b[38;5;241m.\u001b[39mretry\u001b[38;5;241m.\u001b[39mcall_with_retry(\n\u001b[0;32m--> 278\u001b[0m         \u001b[38;5;28;01mlambda\u001b[39;00m: \u001b[38;5;28;43mself\u001b[39;49m\u001b[38;5;241;43m.\u001b[39;49m\u001b[43m_connect\u001b[49m\u001b[43m(\u001b[49m\u001b[43m)\u001b[49m, \u001b[38;5;28;01mlambda\u001b[39;00m error: \u001b[38;5;28mself\u001b[39m\u001b[38;5;241m.\u001b[39mdisconnect(error)\n\u001b[1;32m    279\u001b[0m     )\n\u001b[1;32m    280\u001b[0m \u001b[38;5;28;01mexcept\u001b[39;00m socket\u001b[38;5;241m.\u001b[39mtimeout:\n",
      "File \u001b[0;32m/Library/Frameworks/Python.framework/Versions/3.10/lib/python3.10/site-packages/redis/connection.py:607\u001b[0m, in \u001b[0;36mConnection._connect\u001b[0;34m(self)\u001b[0m\n\u001b[1;32m    606\u001b[0m err \u001b[38;5;241m=\u001b[39m \u001b[38;5;28;01mNone\u001b[39;00m\n\u001b[0;32m--> 607\u001b[0m \u001b[38;5;28;01mfor\u001b[39;00m res \u001b[38;5;129;01min\u001b[39;00m \u001b[43msocket\u001b[49m\u001b[38;5;241;43m.\u001b[39;49m\u001b[43mgetaddrinfo\u001b[49m\u001b[43m(\u001b[49m\n\u001b[1;32m    608\u001b[0m \u001b[43m    \u001b[49m\u001b[38;5;28;43mself\u001b[39;49m\u001b[38;5;241;43m.\u001b[39;49m\u001b[43mhost\u001b[49m\u001b[43m,\u001b[49m\u001b[43m \u001b[49m\u001b[38;5;28;43mself\u001b[39;49m\u001b[38;5;241;43m.\u001b[39;49m\u001b[43mport\u001b[49m\u001b[43m,\u001b[49m\u001b[43m \u001b[49m\u001b[38;5;28;43mself\u001b[39;49m\u001b[38;5;241;43m.\u001b[39;49m\u001b[43msocket_type\u001b[49m\u001b[43m,\u001b[49m\u001b[43m \u001b[49m\u001b[43msocket\u001b[49m\u001b[38;5;241;43m.\u001b[39;49m\u001b[43mSOCK_STREAM\u001b[49m\n\u001b[1;32m    609\u001b[0m \u001b[43m\u001b[49m\u001b[43m)\u001b[49m:\n\u001b[1;32m    610\u001b[0m     family, socktype, proto, canonname, socket_address \u001b[38;5;241m=\u001b[39m res\n",
      "File \u001b[0;32m/Library/Frameworks/Python.framework/Versions/3.10/lib/python3.10/socket.py:955\u001b[0m, in \u001b[0;36mgetaddrinfo\u001b[0;34m(host, port, family, type, proto, flags)\u001b[0m\n\u001b[1;32m    954\u001b[0m addrlist \u001b[38;5;241m=\u001b[39m []\n\u001b[0;32m--> 955\u001b[0m \u001b[38;5;28;01mfor\u001b[39;00m res \u001b[38;5;129;01min\u001b[39;00m \u001b[43m_socket\u001b[49m\u001b[38;5;241;43m.\u001b[39;49m\u001b[43mgetaddrinfo\u001b[49m\u001b[43m(\u001b[49m\u001b[43mhost\u001b[49m\u001b[43m,\u001b[49m\u001b[43m \u001b[49m\u001b[43mport\u001b[49m\u001b[43m,\u001b[49m\u001b[43m \u001b[49m\u001b[43mfamily\u001b[49m\u001b[43m,\u001b[49m\u001b[43m \u001b[49m\u001b[38;5;28;43mtype\u001b[39;49m\u001b[43m,\u001b[49m\u001b[43m \u001b[49m\u001b[43mproto\u001b[49m\u001b[43m,\u001b[49m\u001b[43m \u001b[49m\u001b[43mflags\u001b[49m\u001b[43m)\u001b[49m:\n\u001b[1;32m    956\u001b[0m     af, socktype, proto, canonname, sa \u001b[38;5;241m=\u001b[39m res\n",
      "\u001b[0;31mgaierror\u001b[0m: [Errno 8] nodename nor servname provided, or not known",
      "\nDuring handling of the above exception, another exception occurred:\n",
      "\u001b[0;31mConnectionError\u001b[0m                           Traceback (most recent call last)",
      "Cell \u001b[0;32mIn[88], line 1\u001b[0m\n\u001b[0;32m----> 1\u001b[0m \u001b[38;5;28;01mawait\u001b[39;00m TextToSpeechChatService(\u001b[38;5;124m\"\u001b[39m\u001b[38;5;124m123\u001b[39m\u001b[38;5;124m\"\u001b[39m)\u001b[38;5;241m.\u001b[39mrun(\u001b[38;5;241m*\u001b[39m\u001b[38;5;241m*\u001b[39m{\u001b[38;5;124m'\u001b[39m\u001b[38;5;124mdata\u001b[39m\u001b[38;5;124m'\u001b[39m: {\u001b[38;5;124m'\u001b[39m\u001b[38;5;124mmessage\u001b[39m\u001b[38;5;124m'\u001b[39m: \u001b[38;5;124m'\u001b[39m\u001b[38;5;124mtell me about Bruce Wayne\u001b[39m\u001b[38;5;124m'\u001b[39m, \u001b[38;5;124m'\u001b[39m\u001b[38;5;124mchat_urn\u001b[39m\u001b[38;5;124m'\u001b[39m: \u001b[38;5;124m'\u001b[39m\u001b[38;5;124m4888c131-887b-4ea7-a3a8-31ed84ac019b\u001b[39m\u001b[38;5;124m'\u001b[39m}})\n",
      "File \u001b[0;32m~/Downloads/talkback.ai/talkback.ai/services/apis/chat/text_to_speech.py:198\u001b[0m, in \u001b[0;36mTextToSpeechChatService.run\u001b[0;34m(self, data)\u001b[0m\n\u001b[1;32m    195\u001b[0m \u001b[38;5;28;01mexcept\u001b[39;00m \u001b[38;5;167;01mException\u001b[39;00m \u001b[38;5;28;01mas\u001b[39;00m err:\n\u001b[1;32m    197\u001b[0m     \u001b[38;5;28mself\u001b[39m\u001b[38;5;241m.\u001b[39mlogger\u001b[38;5;241m.\u001b[39merror(\u001b[38;5;124mf\u001b[39m\u001b[38;5;124m\"\u001b[39m\u001b[38;5;124mException occurred while running intitate chat service: \u001b[39m\u001b[38;5;132;01m{\u001b[39;00merr\u001b[38;5;132;01m}\u001b[39;00m\u001b[38;5;124m\"\u001b[39m)\n\u001b[0;32m--> 198\u001b[0m     \u001b[38;5;28;01mraise\u001b[39;00m err\n\u001b[1;32m    200\u001b[0m \u001b[38;5;28;01mfinally\u001b[39;00m:\n\u001b[1;32m    202\u001b[0m     \u001b[38;5;28mself\u001b[39m\u001b[38;5;241m.\u001b[39mlogger\u001b[38;5;241m.\u001b[39mdebug(\u001b[38;5;124m\"\u001b[39m\u001b[38;5;124mCompleted Conversate Chat Service\u001b[39m\u001b[38;5;124m\"\u001b[39m)\n",
      "File \u001b[0;32m~/Downloads/talkback.ai/talkback.ai/services/apis/chat/text_to_speech.py:78\u001b[0m, in \u001b[0;36mTextToSpeechChatService.run\u001b[0;34m(self, data)\u001b[0m\n\u001b[1;32m     75\u001b[0m prompt \u001b[38;5;241m=\u001b[39m data\u001b[38;5;241m.\u001b[39mget(\u001b[38;5;124m\"\u001b[39m\u001b[38;5;124mmessage\u001b[39m\u001b[38;5;124m\"\u001b[39m)\n\u001b[1;32m     77\u001b[0m \u001b[38;5;28mself\u001b[39m\u001b[38;5;241m.\u001b[39mlogger\u001b[38;5;241m.\u001b[39mdebug(\u001b[38;5;124m\"\u001b[39m\u001b[38;5;124mLoading conversation from session\u001b[39m\u001b[38;5;124m\"\u001b[39m)\n\u001b[0;32m---> 78\u001b[0m conversation \u001b[38;5;241m=\u001b[39m \u001b[43mredis_session\u001b[49m\u001b[38;5;241;43m.\u001b[39;49m\u001b[43mget\u001b[49m\u001b[43m(\u001b[49m\u001b[43mchat_urn\u001b[49m\u001b[43m)\u001b[49m\n\u001b[1;32m     79\u001b[0m \u001b[38;5;28mself\u001b[39m\u001b[38;5;241m.\u001b[39mlogger\u001b[38;5;241m.\u001b[39mdebug(conversation)\n\u001b[1;32m     80\u001b[0m \u001b[38;5;28;01mif\u001b[39;00m conversation \u001b[38;5;129;01mis\u001b[39;00m \u001b[38;5;28;01mNone\u001b[39;00m:\n",
      "File \u001b[0;32m/Library/Frameworks/Python.framework/Versions/3.10/lib/python3.10/site-packages/redis/commands/core.py:1821\u001b[0m, in \u001b[0;36mBasicKeyCommands.get\u001b[0;34m(self, name)\u001b[0m\n\u001b[1;32m   1815\u001b[0m \u001b[38;5;28;01mdef\u001b[39;00m \u001b[38;5;21mget\u001b[39m(\u001b[38;5;28mself\u001b[39m, name: KeyT) \u001b[38;5;241m-\u001b[39m\u001b[38;5;241m>\u001b[39m ResponseT:\n\u001b[1;32m   1816\u001b[0m \u001b[38;5;250m    \u001b[39m\u001b[38;5;124;03m\"\"\"\u001b[39;00m\n\u001b[1;32m   1817\u001b[0m \u001b[38;5;124;03m    Return the value at key ``name``, or None if the key doesn't exist\u001b[39;00m\n\u001b[1;32m   1818\u001b[0m \n\u001b[1;32m   1819\u001b[0m \u001b[38;5;124;03m    For more information see https://redis.io/commands/get\u001b[39;00m\n\u001b[1;32m   1820\u001b[0m \u001b[38;5;124;03m    \"\"\"\u001b[39;00m\n\u001b[0;32m-> 1821\u001b[0m     \u001b[38;5;28;01mreturn\u001b[39;00m \u001b[38;5;28;43mself\u001b[39;49m\u001b[38;5;241;43m.\u001b[39;49m\u001b[43mexecute_command\u001b[49m\u001b[43m(\u001b[49m\u001b[38;5;124;43m\"\u001b[39;49m\u001b[38;5;124;43mGET\u001b[39;49m\u001b[38;5;124;43m\"\u001b[39;49m\u001b[43m,\u001b[49m\u001b[43m \u001b[49m\u001b[43mname\u001b[49m\u001b[43m)\u001b[49m\n",
      "File \u001b[0;32m/Library/Frameworks/Python.framework/Versions/3.10/lib/python3.10/site-packages/redis/client.py:545\u001b[0m, in \u001b[0;36mRedis.execute_command\u001b[0;34m(self, *args, **options)\u001b[0m\n\u001b[1;32m    543\u001b[0m pool \u001b[38;5;241m=\u001b[39m \u001b[38;5;28mself\u001b[39m\u001b[38;5;241m.\u001b[39mconnection_pool\n\u001b[1;32m    544\u001b[0m command_name \u001b[38;5;241m=\u001b[39m args[\u001b[38;5;241m0\u001b[39m]\n\u001b[0;32m--> 545\u001b[0m conn \u001b[38;5;241m=\u001b[39m \u001b[38;5;28mself\u001b[39m\u001b[38;5;241m.\u001b[39mconnection \u001b[38;5;129;01mor\u001b[39;00m \u001b[43mpool\u001b[49m\u001b[38;5;241;43m.\u001b[39;49m\u001b[43mget_connection\u001b[49m\u001b[43m(\u001b[49m\u001b[43mcommand_name\u001b[49m\u001b[43m,\u001b[49m\u001b[43m \u001b[49m\u001b[38;5;241;43m*\u001b[39;49m\u001b[38;5;241;43m*\u001b[39;49m\u001b[43moptions\u001b[49m\u001b[43m)\u001b[49m\n\u001b[1;32m    547\u001b[0m \u001b[38;5;28;01mtry\u001b[39;00m:\n\u001b[1;32m    548\u001b[0m     \u001b[38;5;28;01mreturn\u001b[39;00m conn\u001b[38;5;241m.\u001b[39mretry\u001b[38;5;241m.\u001b[39mcall_with_retry(\n\u001b[1;32m    549\u001b[0m         \u001b[38;5;28;01mlambda\u001b[39;00m: \u001b[38;5;28mself\u001b[39m\u001b[38;5;241m.\u001b[39m_send_command_parse_response(\n\u001b[1;32m    550\u001b[0m             conn, command_name, \u001b[38;5;241m*\u001b[39margs, \u001b[38;5;241m*\u001b[39m\u001b[38;5;241m*\u001b[39moptions\n\u001b[1;32m    551\u001b[0m         ),\n\u001b[1;32m    552\u001b[0m         \u001b[38;5;28;01mlambda\u001b[39;00m error: \u001b[38;5;28mself\u001b[39m\u001b[38;5;241m.\u001b[39m_disconnect_raise(conn, error),\n\u001b[1;32m    553\u001b[0m     )\n",
      "File \u001b[0;32m/Library/Frameworks/Python.framework/Versions/3.10/lib/python3.10/site-packages/redis/connection.py:1074\u001b[0m, in \u001b[0;36mConnectionPool.get_connection\u001b[0;34m(self, command_name, *keys, **options)\u001b[0m\n\u001b[1;32m   1070\u001b[0m     \u001b[38;5;28mself\u001b[39m\u001b[38;5;241m.\u001b[39m_in_use_connections\u001b[38;5;241m.\u001b[39madd(connection)\n\u001b[1;32m   1072\u001b[0m \u001b[38;5;28;01mtry\u001b[39;00m:\n\u001b[1;32m   1073\u001b[0m     \u001b[38;5;66;03m# ensure this connection is connected to Redis\u001b[39;00m\n\u001b[0;32m-> 1074\u001b[0m     \u001b[43mconnection\u001b[49m\u001b[38;5;241;43m.\u001b[39;49m\u001b[43mconnect\u001b[49m\u001b[43m(\u001b[49m\u001b[43m)\u001b[49m\n\u001b[1;32m   1075\u001b[0m     \u001b[38;5;66;03m# connections that the pool provides should be ready to send\u001b[39;00m\n\u001b[1;32m   1076\u001b[0m     \u001b[38;5;66;03m# a command. if not, the connection was either returned to the\u001b[39;00m\n\u001b[1;32m   1077\u001b[0m     \u001b[38;5;66;03m# pool before all data has been read or the socket has been\u001b[39;00m\n\u001b[1;32m   1078\u001b[0m     \u001b[38;5;66;03m# closed. either way, reconnect and verify everything is good.\u001b[39;00m\n\u001b[1;32m   1079\u001b[0m     \u001b[38;5;28;01mtry\u001b[39;00m:\n",
      "File \u001b[0;32m/Library/Frameworks/Python.framework/Versions/3.10/lib/python3.10/site-packages/redis/connection.py:283\u001b[0m, in \u001b[0;36mAbstractConnection.connect\u001b[0;34m(self)\u001b[0m\n\u001b[1;32m    281\u001b[0m     \u001b[38;5;28;01mraise\u001b[39;00m \u001b[38;5;167;01mTimeoutError\u001b[39;00m(\u001b[38;5;124m\"\u001b[39m\u001b[38;5;124mTimeout connecting to server\u001b[39m\u001b[38;5;124m\"\u001b[39m)\n\u001b[1;32m    282\u001b[0m \u001b[38;5;28;01mexcept\u001b[39;00m \u001b[38;5;167;01mOSError\u001b[39;00m \u001b[38;5;28;01mas\u001b[39;00m e:\n\u001b[0;32m--> 283\u001b[0m     \u001b[38;5;28;01mraise\u001b[39;00m \u001b[38;5;167;01mConnectionError\u001b[39;00m(\u001b[38;5;28mself\u001b[39m\u001b[38;5;241m.\u001b[39m_error_message(e))\n\u001b[1;32m    285\u001b[0m \u001b[38;5;28mself\u001b[39m\u001b[38;5;241m.\u001b[39m_sock \u001b[38;5;241m=\u001b[39m sock\n\u001b[1;32m    286\u001b[0m \u001b[38;5;28;01mtry\u001b[39;00m:\n",
      "\u001b[0;31mConnectionError\u001b[0m: Error 8 connecting to redis:6379. nodename nor servname provided, or not known."
     ]
    }
   ],
   "source": [
    "await TextToSpeechChatService(\"123\").run(**{'data': {'message': 'tell me about Bruce Wayne', 'chat_urn': '4888c131-887b-4ea7-a3a8-31ed84ac019b'}})"
   ]
  },
  {
   "cell_type": "code",
   "execution_count": 15,
   "metadata": {},
   "outputs": [],
   "source": [
    "from gtts import gTTS"
   ]
  },
  {
   "cell_type": "code",
   "execution_count": 16,
   "metadata": {},
   "outputs": [],
   "source": [
    "tts = gTTS(text=\"hi i am eva what you doing how can i help you. If you want to process the audio in chunks, you can handle it from the audio_bytes. However, gTTS doesn't provide direct streaming like gen.next(). You would need a different library for real-time TTS streaming (e.g., Google Cloud Text-to-Speech API).\", lang=\"en\", slow=False)"
   ]
  },
  {
   "cell_type": "code",
   "execution_count": 17,
   "metadata": {},
   "outputs": [],
   "source": [
    "gen = tts.stream()"
   ]
  },
  {
   "cell_type": "code",
   "execution_count": 1,
   "metadata": {},
   "outputs": [
    {
     "name": "stdout",
     "output_type": "stream",
     "text": [
      "Collecting langchain_google_genai\n",
      "  Using cached langchain_google_genai-1.0.10-py3-none-any.whl.metadata (3.8 kB)\n",
      "Collecting google-generativeai<0.8.0,>=0.7.0 (from langchain_google_genai)\n",
      "  Using cached google_generativeai-0.7.2-py3-none-any.whl.metadata (4.0 kB)\n",
      "Requirement already satisfied: langchain-core<0.3,>=0.2.33 in /Library/Frameworks/Python.framework/Versions/3.10/lib/python3.10/site-packages (from langchain_google_genai) (0.2.38)\n",
      "Collecting google-ai-generativelanguage==0.6.6 (from google-generativeai<0.8.0,>=0.7.0->langchain_google_genai)\n",
      "  Using cached google_ai_generativelanguage-0.6.6-py3-none-any.whl.metadata (5.6 kB)\n",
      "Requirement already satisfied: google-api-core in /Library/Frameworks/Python.framework/Versions/3.10/lib/python3.10/site-packages (from google-generativeai<0.8.0,>=0.7.0->langchain_google_genai) (2.19.2)\n",
      "Collecting google-api-python-client (from google-generativeai<0.8.0,>=0.7.0->langchain_google_genai)\n",
      "  Using cached google_api_python_client-2.145.0-py2.py3-none-any.whl.metadata (6.7 kB)\n",
      "Requirement already satisfied: google-auth>=2.15.0 in /Library/Frameworks/Python.framework/Versions/3.10/lib/python3.10/site-packages (from google-generativeai<0.8.0,>=0.7.0->langchain_google_genai) (2.32.0)\n",
      "Requirement already satisfied: protobuf in /Library/Frameworks/Python.framework/Versions/3.10/lib/python3.10/site-packages (from google-generativeai<0.8.0,>=0.7.0->langchain_google_genai) (5.28.0)\n",
      "Requirement already satisfied: pydantic in /Library/Frameworks/Python.framework/Versions/3.10/lib/python3.10/site-packages (from google-generativeai<0.8.0,>=0.7.0->langchain_google_genai) (2.5.2)\n",
      "Requirement already satisfied: tqdm in /Library/Frameworks/Python.framework/Versions/3.10/lib/python3.10/site-packages (from google-generativeai<0.8.0,>=0.7.0->langchain_google_genai) (4.66.5)\n",
      "Requirement already satisfied: typing-extensions in /Library/Frameworks/Python.framework/Versions/3.10/lib/python3.10/site-packages (from google-generativeai<0.8.0,>=0.7.0->langchain_google_genai) (4.9.0)\n",
      "Requirement already satisfied: proto-plus<2.0.0dev,>=1.22.3 in /Library/Frameworks/Python.framework/Versions/3.10/lib/python3.10/site-packages (from google-ai-generativelanguage==0.6.6->google-generativeai<0.8.0,>=0.7.0->langchain_google_genai) (1.24.0)\n",
      "Collecting protobuf (from google-generativeai<0.8.0,>=0.7.0->langchain_google_genai)\n",
      "  Using cached protobuf-4.25.4-cp37-abi3-macosx_10_9_universal2.whl.metadata (541 bytes)\n",
      "Requirement already satisfied: PyYAML>=5.3 in /Library/Frameworks/Python.framework/Versions/3.10/lib/python3.10/site-packages (from langchain-core<0.3,>=0.2.33->langchain_google_genai) (6.0.1)\n",
      "Requirement already satisfied: jsonpatch<2.0,>=1.33 in /Library/Frameworks/Python.framework/Versions/3.10/lib/python3.10/site-packages (from langchain-core<0.3,>=0.2.33->langchain_google_genai) (1.33)\n",
      "Requirement already satisfied: langsmith<0.2.0,>=0.1.75 in /Library/Frameworks/Python.framework/Versions/3.10/lib/python3.10/site-packages (from langchain-core<0.3,>=0.2.33->langchain_google_genai) (0.1.93)\n",
      "Requirement already satisfied: packaging<25,>=23.2 in /Library/Frameworks/Python.framework/Versions/3.10/lib/python3.10/site-packages (from langchain-core<0.3,>=0.2.33->langchain_google_genai) (23.2)\n",
      "Requirement already satisfied: tenacity!=8.4.0,<9.0.0,>=8.1.0 in /Library/Frameworks/Python.framework/Versions/3.10/lib/python3.10/site-packages (from langchain-core<0.3,>=0.2.33->langchain_google_genai) (8.5.0)\n",
      "Requirement already satisfied: googleapis-common-protos<2.0.dev0,>=1.56.2 in /Library/Frameworks/Python.framework/Versions/3.10/lib/python3.10/site-packages (from google-api-core->google-generativeai<0.8.0,>=0.7.0->langchain_google_genai) (1.63.2)\n",
      "Requirement already satisfied: requests<3.0.0.dev0,>=2.18.0 in /Library/Frameworks/Python.framework/Versions/3.10/lib/python3.10/site-packages (from google-api-core->google-generativeai<0.8.0,>=0.7.0->langchain_google_genai) (2.32.3)\n",
      "Requirement already satisfied: cachetools<6.0,>=2.0.0 in /Library/Frameworks/Python.framework/Versions/3.10/lib/python3.10/site-packages (from google-auth>=2.15.0->google-generativeai<0.8.0,>=0.7.0->langchain_google_genai) (5.4.0)\n",
      "Requirement already satisfied: pyasn1-modules>=0.2.1 in /Library/Frameworks/Python.framework/Versions/3.10/lib/python3.10/site-packages (from google-auth>=2.15.0->google-generativeai<0.8.0,>=0.7.0->langchain_google_genai) (0.4.0)\n",
      "Requirement already satisfied: rsa<5,>=3.1.4 in /Library/Frameworks/Python.framework/Versions/3.10/lib/python3.10/site-packages (from google-auth>=2.15.0->google-generativeai<0.8.0,>=0.7.0->langchain_google_genai) (4.9)\n",
      "Requirement already satisfied: jsonpointer>=1.9 in /Library/Frameworks/Python.framework/Versions/3.10/lib/python3.10/site-packages (from jsonpatch<2.0,>=1.33->langchain-core<0.3,>=0.2.33->langchain_google_genai) (2.4)\n",
      "Requirement already satisfied: orjson<4.0.0,>=3.9.14 in /Library/Frameworks/Python.framework/Versions/3.10/lib/python3.10/site-packages (from langsmith<0.2.0,>=0.1.75->langchain-core<0.3,>=0.2.33->langchain_google_genai) (3.10.6)\n",
      "Requirement already satisfied: annotated-types>=0.4.0 in /Library/Frameworks/Python.framework/Versions/3.10/lib/python3.10/site-packages (from pydantic->google-generativeai<0.8.0,>=0.7.0->langchain_google_genai) (0.6.0)\n",
      "Requirement already satisfied: pydantic-core==2.14.5 in /Library/Frameworks/Python.framework/Versions/3.10/lib/python3.10/site-packages (from pydantic->google-generativeai<0.8.0,>=0.7.0->langchain_google_genai) (2.14.5)\n",
      "Collecting httplib2<1.dev0,>=0.19.0 (from google-api-python-client->google-generativeai<0.8.0,>=0.7.0->langchain_google_genai)\n",
      "  Using cached httplib2-0.22.0-py3-none-any.whl.metadata (2.6 kB)\n",
      "Collecting google-auth-httplib2<1.0.0,>=0.2.0 (from google-api-python-client->google-generativeai<0.8.0,>=0.7.0->langchain_google_genai)\n",
      "  Using cached google_auth_httplib2-0.2.0-py2.py3-none-any.whl.metadata (2.2 kB)\n",
      "Collecting uritemplate<5,>=3.0.1 (from google-api-python-client->google-generativeai<0.8.0,>=0.7.0->langchain_google_genai)\n",
      "  Using cached uritemplate-4.1.1-py2.py3-none-any.whl.metadata (2.9 kB)\n",
      "Requirement already satisfied: grpcio<2.0dev,>=1.33.2 in /Library/Frameworks/Python.framework/Versions/3.10/lib/python3.10/site-packages (from google-api-core[grpc]!=2.0.*,!=2.1.*,!=2.10.*,!=2.2.*,!=2.3.*,!=2.4.*,!=2.5.*,!=2.6.*,!=2.7.*,!=2.8.*,!=2.9.*,<3.0.0dev,>=1.34.1->google-ai-generativelanguage==0.6.6->google-generativeai<0.8.0,>=0.7.0->langchain_google_genai) (1.66.1)\n",
      "Requirement already satisfied: grpcio-status<2.0.dev0,>=1.33.2 in /Library/Frameworks/Python.framework/Versions/3.10/lib/python3.10/site-packages (from google-api-core[grpc]!=2.0.*,!=2.1.*,!=2.10.*,!=2.2.*,!=2.3.*,!=2.4.*,!=2.5.*,!=2.6.*,!=2.7.*,!=2.8.*,!=2.9.*,<3.0.0dev,>=1.34.1->google-ai-generativelanguage==0.6.6->google-generativeai<0.8.0,>=0.7.0->langchain_google_genai) (1.66.1)\n",
      "Requirement already satisfied: pyparsing!=3.0.0,!=3.0.1,!=3.0.2,!=3.0.3,<4,>=2.4.2 in /Library/Frameworks/Python.framework/Versions/3.10/lib/python3.10/site-packages (from httplib2<1.dev0,>=0.19.0->google-api-python-client->google-generativeai<0.8.0,>=0.7.0->langchain_google_genai) (3.1.2)\n",
      "Requirement already satisfied: pyasn1<0.7.0,>=0.4.6 in /Library/Frameworks/Python.framework/Versions/3.10/lib/python3.10/site-packages (from pyasn1-modules>=0.2.1->google-auth>=2.15.0->google-generativeai<0.8.0,>=0.7.0->langchain_google_genai) (0.6.0)\n",
      "Requirement already satisfied: charset-normalizer<4,>=2 in /Library/Frameworks/Python.framework/Versions/3.10/lib/python3.10/site-packages (from requests<3.0.0.dev0,>=2.18.0->google-api-core->google-generativeai<0.8.0,>=0.7.0->langchain_google_genai) (3.3.2)\n",
      "Requirement already satisfied: idna<4,>=2.5 in /Library/Frameworks/Python.framework/Versions/3.10/lib/python3.10/site-packages (from requests<3.0.0.dev0,>=2.18.0->google-api-core->google-generativeai<0.8.0,>=0.7.0->langchain_google_genai) (3.6)\n",
      "Requirement already satisfied: urllib3<3,>=1.21.1 in /Library/Frameworks/Python.framework/Versions/3.10/lib/python3.10/site-packages (from requests<3.0.0.dev0,>=2.18.0->google-api-core->google-generativeai<0.8.0,>=0.7.0->langchain_google_genai) (2.1.0)\n",
      "Requirement already satisfied: certifi>=2017.4.17 in /Library/Frameworks/Python.framework/Versions/3.10/lib/python3.10/site-packages (from requests<3.0.0.dev0,>=2.18.0->google-api-core->google-generativeai<0.8.0,>=0.7.0->langchain_google_genai) (2023.11.17)\n",
      "INFO: pip is looking at multiple versions of grpcio-status to determine which version is compatible with other requirements. This could take a while.\n",
      "Collecting grpcio-status<2.0.dev0,>=1.33.2 (from google-api-core[grpc]!=2.0.*,!=2.1.*,!=2.10.*,!=2.2.*,!=2.3.*,!=2.4.*,!=2.5.*,!=2.6.*,!=2.7.*,!=2.8.*,!=2.9.*,<3.0.0dev,>=1.34.1->google-ai-generativelanguage==0.6.6->google-generativeai<0.8.0,>=0.7.0->langchain_google_genai)\n",
      "  Using cached grpcio_status-1.66.0-py3-none-any.whl.metadata (1.1 kB)\n",
      "  Using cached grpcio_status-1.65.5-py3-none-any.whl.metadata (1.1 kB)\n",
      "  Using cached grpcio_status-1.65.4-py3-none-any.whl.metadata (1.1 kB)\n",
      "  Using cached grpcio_status-1.65.2-py3-none-any.whl.metadata (1.1 kB)\n",
      "  Using cached grpcio_status-1.65.1-py3-none-any.whl.metadata (1.1 kB)\n",
      "  Using cached grpcio_status-1.64.3-py3-none-any.whl.metadata (1.1 kB)\n",
      "  Using cached grpcio_status-1.64.1-py3-none-any.whl.metadata (1.1 kB)\n",
      "INFO: pip is still looking at multiple versions of grpcio-status to determine which version is compatible with other requirements. This could take a while.\n",
      "  Using cached grpcio_status-1.64.0-py3-none-any.whl.metadata (1.1 kB)\n",
      "  Using cached grpcio_status-1.63.2-py3-none-any.whl.metadata (1.1 kB)\n",
      "  Using cached grpcio_status-1.63.0-py3-none-any.whl.metadata (1.1 kB)\n",
      "  Using cached grpcio_status-1.62.3-py3-none-any.whl.metadata (1.3 kB)\n",
      "Using cached langchain_google_genai-1.0.10-py3-none-any.whl (39 kB)\n",
      "Using cached google_generativeai-0.7.2-py3-none-any.whl (164 kB)\n",
      "Using cached google_ai_generativelanguage-0.6.6-py3-none-any.whl (718 kB)\n",
      "Using cached protobuf-4.25.4-cp37-abi3-macosx_10_9_universal2.whl (394 kB)\n",
      "Using cached google_api_python_client-2.145.0-py2.py3-none-any.whl (12.2 MB)\n",
      "Using cached google_auth_httplib2-0.2.0-py2.py3-none-any.whl (9.3 kB)\n",
      "Using cached httplib2-0.22.0-py3-none-any.whl (96 kB)\n",
      "Using cached uritemplate-4.1.1-py2.py3-none-any.whl (10 kB)\n",
      "Using cached grpcio_status-1.62.3-py3-none-any.whl (14 kB)\n",
      "Installing collected packages: uritemplate, protobuf, httplib2, grpcio-status, google-auth-httplib2, google-api-python-client, google-ai-generativelanguage, google-generativeai, langchain_google_genai\n",
      "  Attempting uninstall: protobuf\n",
      "    Found existing installation: protobuf 5.28.0\n",
      "    Uninstalling protobuf-5.28.0:\n",
      "      Successfully uninstalled protobuf-5.28.0\n",
      "  Attempting uninstall: grpcio-status\n",
      "    Found existing installation: grpcio-status 1.66.1\n",
      "    Uninstalling grpcio-status-1.66.1:\n",
      "      Successfully uninstalled grpcio-status-1.66.1\n",
      "Successfully installed google-ai-generativelanguage-0.6.6 google-api-python-client-2.145.0 google-auth-httplib2-0.2.0 google-generativeai-0.7.2 grpcio-status-1.62.3 httplib2-0.22.0 langchain_google_genai-1.0.10 protobuf-4.25.4 uritemplate-4.1.1\n",
      "\n",
      "\u001b[1m[\u001b[0m\u001b[34;49mnotice\u001b[0m\u001b[1;39;49m]\u001b[0m\u001b[39;49m A new release of pip is available: \u001b[0m\u001b[31;49m24.1.2\u001b[0m\u001b[39;49m -> \u001b[0m\u001b[32;49m24.2\u001b[0m\n",
      "\u001b[1m[\u001b[0m\u001b[34;49mnotice\u001b[0m\u001b[1;39;49m]\u001b[0m\u001b[39;49m To update, run: \u001b[0m\u001b[32;49mpip install --upgrade pip\u001b[0m\n"
     ]
    }
   ],
   "source": [
    "!pip3 install langchain_google_genai\n"
   ]
  },
  {
   "cell_type": "code",
   "execution_count": null,
   "metadata": {},
   "outputs": [],
   "source": []
  }
 ],
 "metadata": {
  "kernelspec": {
   "display_name": "Python 3",
   "language": "python",
   "name": "python3"
  },
  "language_info": {
   "codemirror_mode": {
    "name": "ipython",
    "version": 3
   },
   "file_extension": ".py",
   "mimetype": "text/x-python",
   "name": "python",
   "nbconvert_exporter": "python",
   "pygments_lexer": "ipython3",
   "version": "3.10.11"
  }
 },
 "nbformat": 4,
 "nbformat_minor": 2
}
